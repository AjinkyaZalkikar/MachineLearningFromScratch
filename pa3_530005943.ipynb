{
  "cells": [
    {
      "cell_type": "markdown",
      "metadata": {
        "id": "G1ZwsNSHANjg"
      },
      "source": [
        "# CSCE 633 :: Machine Learning :: Texas A&M University :: Spring 2022\n",
        "\n",
        "# Programming Assignment 3 (PA 3)\n",
        "**Name:**  Ajinkya Zalkikar\n",
        "**UIN:**   530005943"
      ]
    },
    {
      "cell_type": "markdown",
      "metadata": {
        "id": "iGug9OrbANjk"
      },
      "source": [
        "# Support Vector Machines\n",
        "\n",
        "- **100 points**\n",
        "- **Due Tuesday, *April* 12, 11:59 pm**\n",
        "\n",
        "In this assignment, you'll be training support vector machines for classification.\n",
        "\n",
        "### Instructions\n",
        "- You are allowed to use machine learning libraries such as `scikit-learn` for this assignment. A few of the basic library methods have been already imported for you. Feel free to import any additional methods that you need.\n",
        "- You are required to complete the functions defined in the code blocks following each question. Fill out sections of the code marked `\"YOUR CODE HERE\"`.\n",
        "- You are free to add any number of additional code blocks that you deem necessary. \n",
        "- Once you've filled out your solutions, submit the notebook on Canvas following the instructions [here](https://people.engr.tamu.edu/guni/csce421/assignments.html).\n",
        "- Do **NOT** forget to type in your name and UIN at the beginning of the notebook.\n",
        "- Do **NOT** remove any code provided."
      ]
    },
    {
      "cell_type": "code",
      "execution_count": 29,
      "metadata": {
        "id": "ddp7rKLqANjl"
      },
      "outputs": [],
      "source": [
        "# importing libraries\n",
        "import sys\n",
        "import pickle\n",
        "\n",
        "import pandas as pd\n",
        "import numpy as np\n",
        "\n",
        "from sklearn.preprocessing import MinMaxScaler\n",
        "from sklearn.svm import SVC\n",
        "from sklearn.model_selection import StratifiedKFold\n",
        "from sklearn.metrics import mean_absolute_error\n",
        "from sklearn.model_selection import cross_val_score\n",
        "import matplotlib.pyplot as plt\n",
        "%matplotlib inline"
      ]
    },
    {
      "cell_type": "markdown",
      "metadata": {
        "id": "GuxjIT5yANjn"
      },
      "source": [
        "## Question 1 (10 points)\n",
        "\n",
        "## Data Preprocessing\n",
        "\n",
        "For this assignment, we will use the Statlog dataset. This database consists of the multi-spectral values of pixels in 3x3 neighbourhoods in a satellite image, and the classification associated with the central pixel in each neighbourhood. The aim is to predict this classification, given the multi-spectral values. In the sample database, the class of a pixel is coded as a number. The attributes are numerical, in the range 0 to 255. More information about the database can be found [here](https://archive.ics.uci.edu/ml/datasets/Statlog+%28Landsat+Satellite%29)."
      ]
    },
    {
      "cell_type": "code",
      "execution_count": 3,
      "metadata": {
        "id": "7fMIHCYsANjn"
      },
      "outputs": [],
      "source": [
        "# Read the data\n",
        "train_df = pd.read_csv('http://people.tamu.edu/~sumedhpendurkar/csce633/satimage_train.csv')\n",
        "test_df = pd.read_csv('http://people.tamu.edu/~sumedhpendurkar/csce633/satimage_test.csv')"
      ]
    },
    {
      "cell_type": "code",
      "execution_count": 25,
      "metadata": {
        "id": "7dBzAI8JANjn",
        "outputId": "0895469b-dc06-4d0c-d9fe-e955a4e6aa19",
        "colab": {
          "base_uri": "https://localhost:8080/",
          "height": 1000
        }
      },
      "outputs": [
        {
          "output_type": "execute_result",
          "data": {
            "text/plain": [
              "             2         9         10        13        17\n",
              "Class  6.000000  6.000000  6.000000  6.000000  6.000000\n",
              "X1     0.562500  0.625000  0.562500  0.625000  0.500000\n",
              "X2     0.490909  0.545455  0.563636  0.545455  0.454545\n",
              "X3     0.333333  0.476190  0.333333  0.476190  0.571429\n",
              "X4    -0.074380 -0.024793 -0.074380 -0.024793 -0.090909\n",
              "X5     0.354839  0.677419  0.483871  0.548387  0.548387\n",
              "X6     0.327273  0.545455  0.400000  0.454545  0.381818\n",
              "X7     0.052632  0.431579  0.136842  0.221053  0.221053\n",
              "X8    -0.187500  0.046875 -0.125000 -0.078125 -0.125000\n",
              "X9     0.187500  0.500000  0.187500  0.375000  0.250000\n",
              "X10    0.242718  0.553398  0.339806  0.398058  0.165049\n",
              "X11   -0.031579  0.515789 -0.115789  0.136842 -0.136842\n",
              "X12   -0.359375 -0.078125 -0.187500 -0.187500 -0.406250\n",
              "X13    0.516129  0.548387  0.258065  0.258065  0.258065\n",
              "X14    0.461538  0.461538  0.307692  0.384615  0.153846\n",
              "X15    0.130435  0.304348  0.043478 -0.065217 -0.065217\n",
              "X16   -0.152542 -0.152542 -0.288136 -0.220339 -0.288136\n",
              "X17    0.218750  0.375000  0.218750  0.218750  0.093750\n",
              "X18    0.184466  0.320388  0.106796  0.320388  0.009709\n",
              "X19   -0.108434  0.060241 -0.277108  0.060241 -0.204819\n",
              "X20   -0.382114 -0.203252 -0.447154 -0.268293 -0.463415\n",
              "X21   -0.015385  0.230769 -0.015385  0.384615  0.107692\n",
              "X22    0.106796  0.165049 -0.106796  0.320388 -0.067961\n",
              "X23   -0.288889  0.022222 -0.355556  0.200000 -0.466667\n",
              "X24   -0.440000 -0.264000 -0.440000 -0.200000 -0.536000\n",
              "X25    0.312500  0.187500  0.187500  0.062500  0.062500\n",
              "X26    0.346154  0.326923  0.096154  0.153846  0.153846\n",
              "X27    0.103448 -0.103448 -0.264368 -0.103448 -0.103448\n",
              "X28   -0.233333 -0.216667 -0.483333 -0.333333 -0.333333\n",
              "X29    0.200000  0.076923 -0.046154  0.323077  0.076923\n",
              "X30    0.207921  0.267327  0.029703  0.267327  0.029703\n",
              "X31   -0.010526 -0.031579 -0.326316 -0.031579 -0.284211\n",
              "X32   -0.312500 -0.234375 -0.437500 -0.234375 -0.421875\n",
              "X33   -0.156250  0.062500 -0.062500  0.187500 -0.062500\n",
              "X34    0.009709  0.165049 -0.145631  0.165049  0.009709\n",
              "X35   -0.326316 -0.115789 -0.494737 -0.115789 -0.368421\n",
              "X36   -0.218750 -0.546875 -0.609375 -0.406250 -0.656250"
            ],
            "text/html": [
              "\n",
              "  <div id=\"df-d2b86dec-777d-4f0d-b37c-fa783d5cc96a\">\n",
              "    <div class=\"colab-df-container\">\n",
              "      <div>\n",
              "<style scoped>\n",
              "    .dataframe tbody tr th:only-of-type {\n",
              "        vertical-align: middle;\n",
              "    }\n",
              "\n",
              "    .dataframe tbody tr th {\n",
              "        vertical-align: top;\n",
              "    }\n",
              "\n",
              "    .dataframe thead th {\n",
              "        text-align: right;\n",
              "    }\n",
              "</style>\n",
              "<table border=\"1\" class=\"dataframe\">\n",
              "  <thead>\n",
              "    <tr style=\"text-align: right;\">\n",
              "      <th></th>\n",
              "      <th>2</th>\n",
              "      <th>9</th>\n",
              "      <th>10</th>\n",
              "      <th>13</th>\n",
              "      <th>17</th>\n",
              "    </tr>\n",
              "  </thead>\n",
              "  <tbody>\n",
              "    <tr>\n",
              "      <th>Class</th>\n",
              "      <td>6.000000</td>\n",
              "      <td>6.000000</td>\n",
              "      <td>6.000000</td>\n",
              "      <td>6.000000</td>\n",
              "      <td>6.000000</td>\n",
              "    </tr>\n",
              "    <tr>\n",
              "      <th>X1</th>\n",
              "      <td>0.562500</td>\n",
              "      <td>0.625000</td>\n",
              "      <td>0.562500</td>\n",
              "      <td>0.625000</td>\n",
              "      <td>0.500000</td>\n",
              "    </tr>\n",
              "    <tr>\n",
              "      <th>X2</th>\n",
              "      <td>0.490909</td>\n",
              "      <td>0.545455</td>\n",
              "      <td>0.563636</td>\n",
              "      <td>0.545455</td>\n",
              "      <td>0.454545</td>\n",
              "    </tr>\n",
              "    <tr>\n",
              "      <th>X3</th>\n",
              "      <td>0.333333</td>\n",
              "      <td>0.476190</td>\n",
              "      <td>0.333333</td>\n",
              "      <td>0.476190</td>\n",
              "      <td>0.571429</td>\n",
              "    </tr>\n",
              "    <tr>\n",
              "      <th>X4</th>\n",
              "      <td>-0.074380</td>\n",
              "      <td>-0.024793</td>\n",
              "      <td>-0.074380</td>\n",
              "      <td>-0.024793</td>\n",
              "      <td>-0.090909</td>\n",
              "    </tr>\n",
              "    <tr>\n",
              "      <th>X5</th>\n",
              "      <td>0.354839</td>\n",
              "      <td>0.677419</td>\n",
              "      <td>0.483871</td>\n",
              "      <td>0.548387</td>\n",
              "      <td>0.548387</td>\n",
              "    </tr>\n",
              "    <tr>\n",
              "      <th>X6</th>\n",
              "      <td>0.327273</td>\n",
              "      <td>0.545455</td>\n",
              "      <td>0.400000</td>\n",
              "      <td>0.454545</td>\n",
              "      <td>0.381818</td>\n",
              "    </tr>\n",
              "    <tr>\n",
              "      <th>X7</th>\n",
              "      <td>0.052632</td>\n",
              "      <td>0.431579</td>\n",
              "      <td>0.136842</td>\n",
              "      <td>0.221053</td>\n",
              "      <td>0.221053</td>\n",
              "    </tr>\n",
              "    <tr>\n",
              "      <th>X8</th>\n",
              "      <td>-0.187500</td>\n",
              "      <td>0.046875</td>\n",
              "      <td>-0.125000</td>\n",
              "      <td>-0.078125</td>\n",
              "      <td>-0.125000</td>\n",
              "    </tr>\n",
              "    <tr>\n",
              "      <th>X9</th>\n",
              "      <td>0.187500</td>\n",
              "      <td>0.500000</td>\n",
              "      <td>0.187500</td>\n",
              "      <td>0.375000</td>\n",
              "      <td>0.250000</td>\n",
              "    </tr>\n",
              "    <tr>\n",
              "      <th>X10</th>\n",
              "      <td>0.242718</td>\n",
              "      <td>0.553398</td>\n",
              "      <td>0.339806</td>\n",
              "      <td>0.398058</td>\n",
              "      <td>0.165049</td>\n",
              "    </tr>\n",
              "    <tr>\n",
              "      <th>X11</th>\n",
              "      <td>-0.031579</td>\n",
              "      <td>0.515789</td>\n",
              "      <td>-0.115789</td>\n",
              "      <td>0.136842</td>\n",
              "      <td>-0.136842</td>\n",
              "    </tr>\n",
              "    <tr>\n",
              "      <th>X12</th>\n",
              "      <td>-0.359375</td>\n",
              "      <td>-0.078125</td>\n",
              "      <td>-0.187500</td>\n",
              "      <td>-0.187500</td>\n",
              "      <td>-0.406250</td>\n",
              "    </tr>\n",
              "    <tr>\n",
              "      <th>X13</th>\n",
              "      <td>0.516129</td>\n",
              "      <td>0.548387</td>\n",
              "      <td>0.258065</td>\n",
              "      <td>0.258065</td>\n",
              "      <td>0.258065</td>\n",
              "    </tr>\n",
              "    <tr>\n",
              "      <th>X14</th>\n",
              "      <td>0.461538</td>\n",
              "      <td>0.461538</td>\n",
              "      <td>0.307692</td>\n",
              "      <td>0.384615</td>\n",
              "      <td>0.153846</td>\n",
              "    </tr>\n",
              "    <tr>\n",
              "      <th>X15</th>\n",
              "      <td>0.130435</td>\n",
              "      <td>0.304348</td>\n",
              "      <td>0.043478</td>\n",
              "      <td>-0.065217</td>\n",
              "      <td>-0.065217</td>\n",
              "    </tr>\n",
              "    <tr>\n",
              "      <th>X16</th>\n",
              "      <td>-0.152542</td>\n",
              "      <td>-0.152542</td>\n",
              "      <td>-0.288136</td>\n",
              "      <td>-0.220339</td>\n",
              "      <td>-0.288136</td>\n",
              "    </tr>\n",
              "    <tr>\n",
              "      <th>X17</th>\n",
              "      <td>0.218750</td>\n",
              "      <td>0.375000</td>\n",
              "      <td>0.218750</td>\n",
              "      <td>0.218750</td>\n",
              "      <td>0.093750</td>\n",
              "    </tr>\n",
              "    <tr>\n",
              "      <th>X18</th>\n",
              "      <td>0.184466</td>\n",
              "      <td>0.320388</td>\n",
              "      <td>0.106796</td>\n",
              "      <td>0.320388</td>\n",
              "      <td>0.009709</td>\n",
              "    </tr>\n",
              "    <tr>\n",
              "      <th>X19</th>\n",
              "      <td>-0.108434</td>\n",
              "      <td>0.060241</td>\n",
              "      <td>-0.277108</td>\n",
              "      <td>0.060241</td>\n",
              "      <td>-0.204819</td>\n",
              "    </tr>\n",
              "    <tr>\n",
              "      <th>X20</th>\n",
              "      <td>-0.382114</td>\n",
              "      <td>-0.203252</td>\n",
              "      <td>-0.447154</td>\n",
              "      <td>-0.268293</td>\n",
              "      <td>-0.463415</td>\n",
              "    </tr>\n",
              "    <tr>\n",
              "      <th>X21</th>\n",
              "      <td>-0.015385</td>\n",
              "      <td>0.230769</td>\n",
              "      <td>-0.015385</td>\n",
              "      <td>0.384615</td>\n",
              "      <td>0.107692</td>\n",
              "    </tr>\n",
              "    <tr>\n",
              "      <th>X22</th>\n",
              "      <td>0.106796</td>\n",
              "      <td>0.165049</td>\n",
              "      <td>-0.106796</td>\n",
              "      <td>0.320388</td>\n",
              "      <td>-0.067961</td>\n",
              "    </tr>\n",
              "    <tr>\n",
              "      <th>X23</th>\n",
              "      <td>-0.288889</td>\n",
              "      <td>0.022222</td>\n",
              "      <td>-0.355556</td>\n",
              "      <td>0.200000</td>\n",
              "      <td>-0.466667</td>\n",
              "    </tr>\n",
              "    <tr>\n",
              "      <th>X24</th>\n",
              "      <td>-0.440000</td>\n",
              "      <td>-0.264000</td>\n",
              "      <td>-0.440000</td>\n",
              "      <td>-0.200000</td>\n",
              "      <td>-0.536000</td>\n",
              "    </tr>\n",
              "    <tr>\n",
              "      <th>X25</th>\n",
              "      <td>0.312500</td>\n",
              "      <td>0.187500</td>\n",
              "      <td>0.187500</td>\n",
              "      <td>0.062500</td>\n",
              "      <td>0.062500</td>\n",
              "    </tr>\n",
              "    <tr>\n",
              "      <th>X26</th>\n",
              "      <td>0.346154</td>\n",
              "      <td>0.326923</td>\n",
              "      <td>0.096154</td>\n",
              "      <td>0.153846</td>\n",
              "      <td>0.153846</td>\n",
              "    </tr>\n",
              "    <tr>\n",
              "      <th>X27</th>\n",
              "      <td>0.103448</td>\n",
              "      <td>-0.103448</td>\n",
              "      <td>-0.264368</td>\n",
              "      <td>-0.103448</td>\n",
              "      <td>-0.103448</td>\n",
              "    </tr>\n",
              "    <tr>\n",
              "      <th>X28</th>\n",
              "      <td>-0.233333</td>\n",
              "      <td>-0.216667</td>\n",
              "      <td>-0.483333</td>\n",
              "      <td>-0.333333</td>\n",
              "      <td>-0.333333</td>\n",
              "    </tr>\n",
              "    <tr>\n",
              "      <th>X29</th>\n",
              "      <td>0.200000</td>\n",
              "      <td>0.076923</td>\n",
              "      <td>-0.046154</td>\n",
              "      <td>0.323077</td>\n",
              "      <td>0.076923</td>\n",
              "    </tr>\n",
              "    <tr>\n",
              "      <th>X30</th>\n",
              "      <td>0.207921</td>\n",
              "      <td>0.267327</td>\n",
              "      <td>0.029703</td>\n",
              "      <td>0.267327</td>\n",
              "      <td>0.029703</td>\n",
              "    </tr>\n",
              "    <tr>\n",
              "      <th>X31</th>\n",
              "      <td>-0.010526</td>\n",
              "      <td>-0.031579</td>\n",
              "      <td>-0.326316</td>\n",
              "      <td>-0.031579</td>\n",
              "      <td>-0.284211</td>\n",
              "    </tr>\n",
              "    <tr>\n",
              "      <th>X32</th>\n",
              "      <td>-0.312500</td>\n",
              "      <td>-0.234375</td>\n",
              "      <td>-0.437500</td>\n",
              "      <td>-0.234375</td>\n",
              "      <td>-0.421875</td>\n",
              "    </tr>\n",
              "    <tr>\n",
              "      <th>X33</th>\n",
              "      <td>-0.156250</td>\n",
              "      <td>0.062500</td>\n",
              "      <td>-0.062500</td>\n",
              "      <td>0.187500</td>\n",
              "      <td>-0.062500</td>\n",
              "    </tr>\n",
              "    <tr>\n",
              "      <th>X34</th>\n",
              "      <td>0.009709</td>\n",
              "      <td>0.165049</td>\n",
              "      <td>-0.145631</td>\n",
              "      <td>0.165049</td>\n",
              "      <td>0.009709</td>\n",
              "    </tr>\n",
              "    <tr>\n",
              "      <th>X35</th>\n",
              "      <td>-0.326316</td>\n",
              "      <td>-0.115789</td>\n",
              "      <td>-0.494737</td>\n",
              "      <td>-0.115789</td>\n",
              "      <td>-0.368421</td>\n",
              "    </tr>\n",
              "    <tr>\n",
              "      <th>X36</th>\n",
              "      <td>-0.218750</td>\n",
              "      <td>-0.546875</td>\n",
              "      <td>-0.609375</td>\n",
              "      <td>-0.406250</td>\n",
              "      <td>-0.656250</td>\n",
              "    </tr>\n",
              "  </tbody>\n",
              "</table>\n",
              "</div>\n",
              "      <button class=\"colab-df-convert\" onclick=\"convertToInteractive('df-d2b86dec-777d-4f0d-b37c-fa783d5cc96a')\"\n",
              "              title=\"Convert this dataframe to an interactive table.\"\n",
              "              style=\"display:none;\">\n",
              "        \n",
              "  <svg xmlns=\"http://www.w3.org/2000/svg\" height=\"24px\"viewBox=\"0 0 24 24\"\n",
              "       width=\"24px\">\n",
              "    <path d=\"M0 0h24v24H0V0z\" fill=\"none\"/>\n",
              "    <path d=\"M18.56 5.44l.94 2.06.94-2.06 2.06-.94-2.06-.94-.94-2.06-.94 2.06-2.06.94zm-11 1L8.5 8.5l.94-2.06 2.06-.94-2.06-.94L8.5 2.5l-.94 2.06-2.06.94zm10 10l.94 2.06.94-2.06 2.06-.94-2.06-.94-.94-2.06-.94 2.06-2.06.94z\"/><path d=\"M17.41 7.96l-1.37-1.37c-.4-.4-.92-.59-1.43-.59-.52 0-1.04.2-1.43.59L10.3 9.45l-7.72 7.72c-.78.78-.78 2.05 0 2.83L4 21.41c.39.39.9.59 1.41.59.51 0 1.02-.2 1.41-.59l7.78-7.78 2.81-2.81c.8-.78.8-2.07 0-2.86zM5.41 20L4 18.59l7.72-7.72 1.47 1.35L5.41 20z\"/>\n",
              "  </svg>\n",
              "      </button>\n",
              "      \n",
              "  <style>\n",
              "    .colab-df-container {\n",
              "      display:flex;\n",
              "      flex-wrap:wrap;\n",
              "      gap: 12px;\n",
              "    }\n",
              "\n",
              "    .colab-df-convert {\n",
              "      background-color: #E8F0FE;\n",
              "      border: none;\n",
              "      border-radius: 50%;\n",
              "      cursor: pointer;\n",
              "      display: none;\n",
              "      fill: #1967D2;\n",
              "      height: 32px;\n",
              "      padding: 0 0 0 0;\n",
              "      width: 32px;\n",
              "    }\n",
              "\n",
              "    .colab-df-convert:hover {\n",
              "      background-color: #E2EBFA;\n",
              "      box-shadow: 0px 1px 2px rgba(60, 64, 67, 0.3), 0px 1px 3px 1px rgba(60, 64, 67, 0.15);\n",
              "      fill: #174EA6;\n",
              "    }\n",
              "\n",
              "    [theme=dark] .colab-df-convert {\n",
              "      background-color: #3B4455;\n",
              "      fill: #D2E3FC;\n",
              "    }\n",
              "\n",
              "    [theme=dark] .colab-df-convert:hover {\n",
              "      background-color: #434B5C;\n",
              "      box-shadow: 0px 1px 3px 1px rgba(0, 0, 0, 0.15);\n",
              "      filter: drop-shadow(0px 1px 2px rgba(0, 0, 0, 0.3));\n",
              "      fill: #FFFFFF;\n",
              "    }\n",
              "  </style>\n",
              "\n",
              "      <script>\n",
              "        const buttonEl =\n",
              "          document.querySelector('#df-d2b86dec-777d-4f0d-b37c-fa783d5cc96a button.colab-df-convert');\n",
              "        buttonEl.style.display =\n",
              "          google.colab.kernel.accessAllowed ? 'block' : 'none';\n",
              "\n",
              "        async function convertToInteractive(key) {\n",
              "          const element = document.querySelector('#df-d2b86dec-777d-4f0d-b37c-fa783d5cc96a');\n",
              "          const dataTable =\n",
              "            await google.colab.kernel.invokeFunction('convertToInteractive',\n",
              "                                                     [key], {});\n",
              "          if (!dataTable) return;\n",
              "\n",
              "          const docLinkHtml = 'Like what you see? Visit the ' +\n",
              "            '<a target=\"_blank\" href=https://colab.research.google.com/notebooks/data_table.ipynb>data table notebook</a>'\n",
              "            + ' to learn more about interactive tables.';\n",
              "          element.innerHTML = '';\n",
              "          dataTable['output_type'] = 'display_data';\n",
              "          await google.colab.output.renderOutput(dataTable, element);\n",
              "          const docLink = document.createElement('div');\n",
              "          docLink.innerHTML = docLinkHtml;\n",
              "          element.appendChild(docLink);\n",
              "        }\n",
              "      </script>\n",
              "    </div>\n",
              "  </div>\n",
              "  "
            ]
          },
          "metadata": {},
          "execution_count": 25
        }
      ],
      "source": [
        "train_df.head().T"
      ]
    },
    {
      "cell_type": "markdown",
      "metadata": {
        "id": "5ahKrrIfANjo"
      },
      "source": [
        "### To-do steps\n",
        "1. Remove rows with `NaN` values from `df_train` and `df_test`.\n",
        "2. Create `X_train` and `X_test` by selecting columns `X1` through `X36`. Create `y_train` and `y_test` by selecting column `Class`.\n",
        "2. Normalize `X_train` using `MinMaxScaler` from scikit-learn. Then normalize `X_test` on the normalization parameters derived from `X_train`."
      ]
    },
    {
      "cell_type": "code",
      "execution_count": 26,
      "metadata": {
        "id": "Pv5al-wZANjp"
      },
      "outputs": [],
      "source": [
        "from sklearn import preprocessing\n",
        "# Step 1: Drop NaN values\n",
        "######################\n",
        "#   YOUR CODE HERE   #\n",
        "train_df = train_df.dropna(axis=0,how='any')\n",
        "test_df = test_df.dropna(axis=0, how = 'any')\n",
        "\n",
        "# Step 2: Create train and test data\n",
        "######################\n",
        "#   YOUR CODE HERE   #\n",
        "######################\n",
        "X_train = train_df.iloc[:,1:37]\n",
        "y_train = train_df.iloc[:,0]\n",
        "X_test = test_df.iloc[:,1:37]\n",
        "y_test = test_df.iloc[:,0]\n",
        "# Step 3: Normalize data\n",
        "######################\n",
        "#   YOUR CODE HERE   #\n",
        "######################\n",
        "scaler = preprocessing.MinMaxScaler()\n",
        "X_train=scaler.fit_transform(X_train)\n",
        "X_test=scaler.fit_transform(X_test)"
      ]
    },
    {
      "cell_type": "code",
      "source": [
        "# Convert to binary classification\n",
        "y_train[y_train != 6] = 0\n",
        "y_train[y_train == 6] = 1\n",
        "\n",
        "y_test[y_test != 6] = 0\n",
        "y_test[y_test == 6] = 1"
      ],
      "metadata": {
        "id": "dS1DcjCLRqSk",
        "outputId": "41a2ea23-1350-45b5-e887-66b4c7d16757",
        "colab": {
          "base_uri": "https://localhost:8080/"
        }
      },
      "execution_count": 27,
      "outputs": [
        {
          "output_type": "stream",
          "name": "stderr",
          "text": [
            "/usr/local/lib/python3.7/dist-packages/ipykernel_launcher.py:2: SettingWithCopyWarning: \n",
            "A value is trying to be set on a copy of a slice from a DataFrame\n",
            "\n",
            "See the caveats in the documentation: https://pandas.pydata.org/pandas-docs/stable/user_guide/indexing.html#returning-a-view-versus-a-copy\n",
            "  \n",
            "/usr/local/lib/python3.7/dist-packages/ipykernel_launcher.py:3: SettingWithCopyWarning: \n",
            "A value is trying to be set on a copy of a slice from a DataFrame\n",
            "\n",
            "See the caveats in the documentation: https://pandas.pydata.org/pandas-docs/stable/user_guide/indexing.html#returning-a-view-versus-a-copy\n",
            "  This is separate from the ipykernel package so we can avoid doing imports until\n",
            "/usr/local/lib/python3.7/dist-packages/ipykernel_launcher.py:5: SettingWithCopyWarning: \n",
            "A value is trying to be set on a copy of a slice from a DataFrame\n",
            "\n",
            "See the caveats in the documentation: https://pandas.pydata.org/pandas-docs/stable/user_guide/indexing.html#returning-a-view-versus-a-copy\n",
            "  \"\"\"\n",
            "/usr/local/lib/python3.7/dist-packages/ipykernel_launcher.py:6: SettingWithCopyWarning: \n",
            "A value is trying to be set on a copy of a slice from a DataFrame\n",
            "\n",
            "See the caveats in the documentation: https://pandas.pydata.org/pandas-docs/stable/user_guide/indexing.html#returning-a-view-versus-a-copy\n",
            "  \n"
          ]
        }
      ]
    },
    {
      "cell_type": "markdown",
      "metadata": {
        "id": "Goqk2RN9ANjq"
      },
      "source": [
        "## Question 2 (30 points) \n",
        "\n",
        "## Hyperparameter Tuning \n",
        "\n",
        "Consider the binary classification that consists of distinguishing class 6 from the rest of the data points. Use SVMs combined with polynomial kernels to solve this classification problem. For each value of the polynomial degree, $d$ = 1, 2, 3, 4, plot the average 5-fold cross-validation error plus or minus one standard deviation as a function of $C$ (let the other parameters of the polynomial kernels be equal to their default values) on the training data.\n",
        "\n",
        "**Choose a minimum of 5 $C$ values spread across a wide range**\n",
        "\n",
        "**Report the best value of the trade-off constant $C$ measured on the training internal cross-validation.**"
      ]
    },
    {
      "cell_type": "code",
      "execution_count": 34,
      "metadata": {
        "id": "KzaCHVglANjr"
      },
      "outputs": [],
      "source": [
        "from matplotlib.font_manager import JSONEncoder\n",
        "from pandas.core.dtypes.cast import soft_convert_objects\n",
        "def cross_validation_score(X, y, c_vals, n_folds, d_vals):\n",
        "    \"\"\"\n",
        "    Calculates the cross validation error and returns its mean and standard deviation.\n",
        "    \n",
        "    Args:\n",
        "        X: features\n",
        "        y: labels\n",
        "        c_vals: list of C values\n",
        "        n_folds: number of cross-validation folds\n",
        "        d_vals: list of degrees of the polynomial kernel\n",
        "    \n",
        "    Returns:\n",
        "        Tuple of (list of error_mean, list of error_std)       \n",
        "    \"\"\"\n",
        "    \n",
        "    error_mean = np.zeros((len(c_vals),len(d_vals)))\n",
        "    error_std = np.zeros((len(c_vals),len(d_vals)))\n",
        "    \n",
        "    ######################\n",
        "    #   YOUR CODE HERE   #\n",
        "    ######################\n",
        "    m = len(c_vals)\n",
        "    g = len(d_vals)\n",
        "    for i in range(m):\n",
        "      for j in range(g):\n",
        "        sup = SVC(kernel='poly',C=c_vals[i],degree=d_vals[j],random_state=57)\n",
        "        val = StratifiedKFold()\n",
        "        cvscores = cross_val_score(sup,X,y,cv = val)\n",
        "        errors = 1 - cvscores\n",
        "\n",
        "        error_mean[i][j] = errors.mean()\n",
        "        error_std[i][j] = errors.std()\n",
        "\n",
        "\n",
        "    return error_mean, error_std"
      ]
    },
    {
      "cell_type": "code",
      "execution_count": 46,
      "metadata": {
        "id": "DFtjAaJ0ANjr"
      },
      "outputs": [],
      "source": [
        "######################\n",
        "#   YOUR CODE HERE   #\n",
        "######################\n",
        "n_folds = 5\n",
        "d_vals= [1, 2, 3, 4]\n",
        "c_vals =[0.1, 6, 30, 50] # Provide a list of C values"
      ]
    },
    {
      "cell_type": "code",
      "execution_count": 47,
      "metadata": {
        "id": "cj4-1ErnANjr"
      },
      "outputs": [],
      "source": [
        "error_mean, error_std = cross_validation_score(X_train, y_train, c_vals, n_folds, d_vals)"
      ]
    },
    {
      "cell_type": "markdown",
      "metadata": {
        "id": "K_ucxKfvANjs"
      },
      "source": [
        "**Plot the average cross validation error.**"
      ]
    },
    {
      "cell_type": "code",
      "execution_count": 48,
      "metadata": {
        "id": "T7e06lJGANjs",
        "outputId": "9944809f-8e4a-480b-fbba-b064141dcec6",
        "colab": {
          "base_uri": "https://localhost:8080/",
          "height": 1000
        }
      },
      "outputs": [
        {
          "output_type": "display_data",
          "data": {
            "text/plain": [
              "<Figure size 576x360 with 1 Axes>"
            ],
            "image/png": "[encoded data removed]"
          },
          "metadata": {
            "needs_background": "light"
          }
        },
        {
          "output_type": "display_data",
          "data": {
            "text/plain": [
              "<Figure size 576x360 with 1 Axes>"
            ],
            "image/png": "[encoded data removed]"
          },
          "metadata": {
            "needs_background": "light"
          }
        },
        {
          "output_type": "display_data",
          "data": {
            "text/plain": [
              "<Figure size 576x360 with 1 Axes>"
            ],
            "image/png": "[encoded data removed]"
          },
          "metadata": {
            "needs_background": "light"
          }
        },
        {
          "output_type": "display_data",
          "data": {
            "text/plain": [
              "<Figure size 576x360 with 1 Axes>"
            ],
            "image/png": "[encoded data removed]"
          },
          "metadata": {
            "needs_background": "light"
          }
        }
      ],
      "source": [
        "for i,d_val in enumerate(d_vals):\n",
        "    plt.rcParams.update({'font.size': 12})\n",
        "    plt.figure(figsize = (8,5)) \n",
        "    plt.bar(range(len(c_vals)), error_mean[:,i], \n",
        "            yerr=error_std[:,i],\n",
        "            align='center',\n",
        "            alpha=0.5,\n",
        "            ecolor='k',\n",
        "            capsize=10,\n",
        "            label = \"Average Error\")\n",
        "    plt.suptitle('Error vs C for d={} Kernel'.format(d_val), fontsize=15)\n",
        "    plt.xlabel('C Values', fontsize=10)\n",
        "    plt.xticks(range(len(c_vals)), c_vals, rotation='vertical')\n",
        "    plt.ylabel('Average Error Across {} Folds'.format(n_folds), fontsize=10)"
      ]
    },
    {
      "cell_type": "markdown",
      "metadata": {
        "id": "rWcixVpmANjt"
      },
      "source": [
        "**Plot $(C; d)$ pairs with their corresponding cross validation errors.**"
      ]
    },
    {
      "cell_type": "code",
      "execution_count": 49,
      "metadata": {
        "id": "43QMc4I9ANjt",
        "outputId": "25880bb7-d47f-44b0-eb8a-53a1f120fa59",
        "colab": {
          "base_uri": "https://localhost:8080/",
          "height": 390
        }
      },
      "outputs": [
        {
          "output_type": "execute_result",
          "data": {
            "text/plain": [
              "<matplotlib.legend.Legend at 0x7f0f8578f2d0>"
            ]
          },
          "metadata": {},
          "execution_count": 49
        },
        {
          "output_type": "display_data",
          "data": {
            "text/plain": [
              "<Figure size 576x360 with 1 Axes>"
            ],
            "image/png": "[encoded data removed]"
          },
          "metadata": {
            "needs_background": "light"
          }
        }
      ],
      "source": [
        "plt.rcParams.update({'font.size': 12})\n",
        "plt.figure(figsize = (8,5))\n",
        "colors = ['r', 'g', 'b', 'c', 'y']\n",
        "for i,d_val in enumerate(d_vals):\n",
        "    plt.plot(c_vals, error_mean[:,i],\n",
        "             marker='o', \n",
        "             color=colors[i%5], \n",
        "             alpha=1 - 0.2 * d_val/len(d_vals), \n",
        "             label = \"d={}\".format(d_val))\n",
        "plt.suptitle('Error vs C for all d values', fontsize=15)\n",
        "plt.xlabel('C values', fontsize=10)\n",
        "plt.ylabel('Average Error Across {} Folds'.format(n_folds), fontsize=10)\n",
        "plt.legend()"
      ]
    },
    {
      "cell_type": "markdown",
      "metadata": {
        "id": "kEVI-yNIANjt"
      },
      "source": [
        "## Question 3 (30 points) \n",
        "\n",
        "## Model Training and Testing\n",
        "\n",
        "**Build models on the full training data on the best $C$ value you found previously for each $d$ value using the 5-fold cross validation.**\n",
        "\n",
        "You need to return test error, number of support vectors, number of margin violations, and margin size\n",
        "\n",
        "A data point (i.e., x) is said to violate margin if **distance of data point \n",
        "from hyperplane < margin size**. Therefore, number of total margin violations is count of such data points present in dataset.\n",
        "\n",
        "\n",
        "Hint: Margin Size: Use the dual coefficients (alpha values) of SVM along with support vectors to calculcate margin. Please refer to slide 17 in slide deck 13 for more details."
      ]
    },
    {
      "cell_type": "code",
      "execution_count": 54,
      "metadata": {
        "id": "R3nQ-aWBANjt"
      },
      "outputs": [],
      "source": [
        "def build_model(X_train, y_train, X_test, y_test, c_vals, d_vals):\n",
        "    \"\"\"\n",
        "    Trains model on a dataset for given values of C and d. Returns the error on the test data,\n",
        "    the number of support vectors, the number of margin violations, and the margin size.\n",
        "    \n",
        "    Args:\n",
        "        X_train: features in training data\n",
        "        y_train: train labels\n",
        "        X_test: features in test data\n",
        "        y_test: test labels\n",
        "        c_vals: list of C values\n",
        "        d_vals: list of degrees of the polynomial kernel\n",
        "    \n",
        "    Returns:\n",
        "        Tuple of (error_test, support_vectors, margin_violations, margin_size)       \n",
        "    \"\"\"\n",
        "    error_test = np.zeros(len(d_vals))\n",
        "    support_vectors = np.zeros(len(d_vals))\n",
        "    margin_violations = np.zeros(len(d_vals))\n",
        "    margin_size = np.zeros(len(d_vals))\n",
        "    \n",
        "    ######################\n",
        "    #   YOUR CODE HERE   #\n",
        "    ######################\n",
        "    g = len(d_vals)\n",
        "    for i in range(g):\n",
        "      sup2 = SVC(kernel = 'poly',C = c_vals[i],degree = d_vals[i],random_state=57)\n",
        "      sup2.fit(X_train,y_train)\n",
        "      pred = sup2.predict(X_test)\n",
        "      err = mean_absolute_error(y_test,pred)\n",
        "      error_test[i]=err\n",
        "      support_vectors[i]=len(sup2.support_)\n",
        "      denom = np.sqrt(np.sum(sup2.dual_coef_[0].dot(sup2.support_vectors_)**2))\n",
        "      marginsize = 1/denom\n",
        "      distance = np.abs(sup2.decision_function(sup2.support_vectors_))\n",
        "      margin_size[i] = marginsize\n",
        "      marviols = distance[distance<marginsize]\n",
        "      margin_violations[i] = len(marviols)\n",
        "  \n",
        "    return error_test, support_vectors, margin_violations, margin_size"
      ]
    },
    {
      "cell_type": "code",
      "execution_count": 61,
      "metadata": {
        "id": "vRhEudA4ANju"
      },
      "outputs": [],
      "source": [
        "######################\n",
        "#   YOUR CODE HERE   #\n",
        "######################\n",
        "d_vals= [1,2,3,4] # List of degrees\n",
        "c_vals = [30,30,6,6]# Provide a list of corresponding best C values"
      ]
    },
    {
      "cell_type": "code",
      "execution_count": 62,
      "metadata": {
        "id": "v-0qRad7ANju"
      },
      "outputs": [],
      "source": [
        "error_test, support_vectors, margin_violations, margin_size = build_model(X_train, y_train, \n",
        "                                                                          X_test, y_test, \n",
        "                                                                          c_vals, d_vals)"
      ]
    },
    {
      "cell_type": "markdown",
      "metadata": {
        "id": "aW7VvGh8ANju"
      },
      "source": [
        "**Plot the test errors for each model, as a function of $d$.**"
      ]
    },
    {
      "cell_type": "code",
      "execution_count": 63,
      "metadata": {
        "id": "ynWBkxm0ANju",
        "outputId": "1dfc2279-1d04-4252-800f-32ddfc11bfce",
        "colab": {
          "base_uri": "https://localhost:8080/",
          "height": 373
        }
      },
      "outputs": [
        {
          "output_type": "display_data",
          "data": {
            "text/plain": [
              "<Figure size 576x360 with 1 Axes>"
            ],
            "image/png": "[encoded data removed]"
          },
          "metadata": {
            "needs_background": "light"
          }
        }
      ],
      "source": [
        "plt.rcParams.update({'font.size': 12})\n",
        "plt.figure(figsize = (8,5)) \n",
        "plt.plot(d_vals, error_test ,marker='o', color='b')\n",
        "plt.suptitle('Test Error vs d values', fontsize=20)\n",
        "plt.xlabel('d values', fontsize=10)\n",
        "plt.ylabel('Test Error', fontsize=10);"
      ]
    },
    {
      "cell_type": "markdown",
      "metadata": {
        "id": "j_cGRQB8ANjv"
      },
      "source": [
        "## Question 4 (10 points) \n",
        "\n",
        "## Number of support vectors\n",
        "\n",
        "**Plot the number of support vectors obtained as a function of $d$.**"
      ]
    },
    {
      "cell_type": "code",
      "execution_count": 64,
      "metadata": {
        "id": "R0DkpVGmANjv",
        "outputId": "e6ba5772-763a-4a07-882d-f4f3b8560e34",
        "colab": {
          "base_uri": "https://localhost:8080/",
          "height": 373
        }
      },
      "outputs": [
        {
          "output_type": "display_data",
          "data": {
            "text/plain": [
              "<Figure size 576x360 with 1 Axes>"
            ],
            "image/png": "[encoded data removed]"
          },
          "metadata": {
            "needs_background": "light"
          }
        }
      ],
      "source": [
        "plt.rcParams.update({'font.size': 12})\n",
        "plt.figure(figsize = (8,5)) \n",
        "plt.plot(d_vals, support_vectors, marker='o', color='b')\n",
        "plt.suptitle('Number of Support Vectors vs d values', fontsize=20)\n",
        "plt.xlabel('d values', fontsize=10)\n",
        "plt.ylabel('Number of Support Vectors', fontsize=10);"
      ]
    },
    {
      "cell_type": "markdown",
      "metadata": {
        "id": "58Ex4yu0ANjv"
      },
      "source": [
        "## Question 5 (10 points)\n",
        "\n",
        "## Number of Margin Violations\n",
        "\n",
        "**Plot the number of support vectors that violate the margin hyperplanes as a function of $d.**"
      ]
    },
    {
      "cell_type": "code",
      "execution_count": 65,
      "metadata": {
        "id": "A9eS2yYtANjv",
        "outputId": "1ec4c57a-56b4-461c-b11b-8e6c90c4df13",
        "colab": {
          "base_uri": "https://localhost:8080/",
          "height": 373
        }
      },
      "outputs": [
        {
          "output_type": "display_data",
          "data": {
            "text/plain": [
              "<Figure size 576x360 with 1 Axes>"
            ],
            "image/png": "[encoded data removed]"
          },
          "metadata": {
            "needs_background": "light"
          }
        }
      ],
      "source": [
        "plt.rcParams.update({'font.size': 12})\n",
        "plt.figure(figsize = (8,5)) \n",
        "plt.plot(d_vals, margin_violations, marker='o', color='b')\n",
        "plt.suptitle('Number of Support Vectors that Violate the Margin vs d values', fontsize=20)\n",
        "plt.xlabel('d values', fontsize=10)\n",
        "plt.ylabel('Number of Support Vectors that Violate the Margin ', fontsize=10);"
      ]
    },
    {
      "cell_type": "markdown",
      "metadata": {
        "id": "cC4Z2SMuANjw"
      },
      "source": [
        "## Question 6 (10 points) \n",
        "\n",
        "## Margin Size vs Support Vectors\n",
        "\n",
        "**Explain how the parameter $d$ infuences the model fit (plot the margin size as a function of $d).**\n",
        "\n",
        "Make sure to plot **AND** explain."
      ]
    },
    {
      "cell_type": "code",
      "execution_count": 66,
      "metadata": {
        "id": "dR8oNttjANjw",
        "outputId": "1fcbc99a-1621-4130-fc84-510c47d9994a",
        "colab": {
          "base_uri": "https://localhost:8080/",
          "height": 376
        }
      },
      "outputs": [
        {
          "output_type": "display_data",
          "data": {
            "text/plain": [
              "<Figure size 576x360 with 1 Axes>"
            ],
            "image/png": "[encoded data removed]"
          },
          "metadata": {
            "needs_background": "light"
          }
        }
      ],
      "source": [
        "plt.rcParams.update({'font.size': 12})\n",
        "plt.figure(figsize = (8,5)) \n",
        "plt.plot(d_vals, margin_size, marker='o', color='b')\n",
        "plt.suptitle('Hyperplane Margin Size vs d values', fontsize=20)\n",
        "plt.xlabel('d Values', fontsize=12)\n",
        "plt.ylabel('Hyperplane Margin Size', fontsize=12);"
      ]
    },
    {
      "cell_type": "code",
      "execution_count": null,
      "metadata": {
        "id": "D6HUjScqANjw"
      },
      "outputs": [],
      "source": [
        "## TYPE YOUR ANSWER BELOW"
      ]
    },
    {
      "cell_type": "markdown",
      "metadata": {
        "id": "1tI_U-Z9ANjw"
      },
      "source": [
        "The model fit is dependent on the degree of polynomial kernel, which in turn affects the error of the model. As can be seen in the error vs degree plot, the error is fairly similar for degrees 1 & 2 with a c value of 30 in either case, however, the number of support vectors that violate the margin go down from 14 to 0 from degree 1 to degree 2. Thus, model with degree=2 & c=30 is the better model from the 2 models in question."
      ]
    }
  ],
  "metadata": {
    "kernelspec": {
      "display_name": "Python 3",
      "language": "python",
      "name": "python3"
    },
    "language_info": {
      "codemirror_mode": {
        "name": "ipython",
        "version": 3
      },
      "file_extension": ".py",
      "mimetype": "text/x-python",
      "name": "python",
      "nbconvert_exporter": "python",
      "pygments_lexer": "ipython3",
      "version": "3.6.13"
    },
    "colab": {
      "name": "pa3-support-vector-machines.ipynb",
      "provenance": [],
      "collapsed_sections": []
    }
  },
  "nbformat": 4,
  "nbformat_minor": 0
}