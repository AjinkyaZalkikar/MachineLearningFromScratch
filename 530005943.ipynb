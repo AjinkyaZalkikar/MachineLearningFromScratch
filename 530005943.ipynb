{
  "cells": [
    {
      "cell_type": "markdown",
      "id": "882ab14f",
      "metadata": {
        "id": "882ab14f"
      },
      "source": [
        "# CSCE 633 :: Machine Learning :: Texas A&M University :: Spring 2022\n",
        "\n",
        "# Programming Assignment 0 (P0)\n",
        "**Name:** Ajinkya Zalkikar \n",
        "\n",
        "**UIN:**  530005943\n"
      ]
    },
    {
      "cell_type": "markdown",
      "id": "2e6f61f4",
      "metadata": {
        "id": "2e6f61f4"
      },
      "source": [
        "# Python Warmup\n",
        "- **100 points**\n",
        "- **Due Tuesday, January 25 by 11:59 pm**\n",
        "\n",
        "This assignment tests the basics of Python, NumPy, and Pandas. They are the bread and butter for implementing machine learning algorithms. Hence, it is expected that you should be able to complete this assignment without breaking a lot of sweat. The level of difficulty of the questions varies between easy and medium. So, in case you are unfamiliar with NumPy and Pandas, they should provide you with a nice platform to get up to speed.  \n",
        "\n",
        "The assignment consists of 15 coding questions. You are required to complete the functions defined in the code blocks following each question.  You only need to fill out sections of the code marked `\"YOUR CODE HERE\"`. There are a few test cases defined for each question which you may use to verify your implementation. Do **NOT** modify these test cases since we will use them to grade your solutions. Once you've filled out your solutions, submit the notebook on Canvas (see the instructions on Submission). Do **NOT** forget to type in your name and UIN at the beginning of the notebook."
      ]
    },
    {
      "cell_type": "markdown",
      "id": "a14dfd16",
      "metadata": {
        "id": "a14dfd16"
      },
      "source": [
        "## Tutorial on Jupyter Notebooks\n",
        "\n",
        "If you are new to jupyter notebooks, you can find more information on how to use them [here](https://realpython.com/jupyter-notebook-introduction/)."
      ]
    },
    {
      "cell_type": "markdown",
      "id": "2043b5a2",
      "metadata": {
        "id": "2043b5a2"
      },
      "source": [
        "## Python Basics"
      ]
    },
    {
      "cell_type": "markdown",
      "id": "4da92ed3",
      "metadata": {
        "id": "4da92ed3"
      },
      "source": [
        "### Question 1 (5 points)\n",
        "**Complete the function `str_cmp` to return `True` if two strings are the same irrespective of lowercase/uppercase and whitespaces. Else, return `False`.**"
      ]
    },
    {
      "cell_type": "code",
      "execution_count": 1,
      "id": "35a5617a",
      "metadata": {
        "id": "35a5617a"
      },
      "outputs": [],
      "source": [
        "def str_cmp(str_1, str_2):\n",
        "  str_1=str_1.upper()\n",
        "  str_2=str_2.upper()\n",
        "  str_1=str_1.strip()\n",
        "  str_2=str_2.strip()\n",
        "  str_1=str_1.replace(\" \",\"\")\n",
        "  str_2=str_2.replace(\" \",\"\")  \n",
        "  return str_1==str_2\n",
        "    \n",
        "    "
      ]
    },
    {
      "cell_type": "code",
      "execution_count": 2,
      "id": "de42b747",
      "metadata": {
        "id": "de42b747",
        "colab": {
          "base_uri": "https://localhost:8080/"
        },
        "outputId": "8b7181d9-b1ab-4dce-cb38-cd2831590dee"
      },
      "outputs": [
        {
          "output_type": "stream",
          "name": "stdout",
          "text": [
            "Passed test case 1\n",
            "====================\n",
            "Passed test case 2\n",
            "====================\n",
            "Passed test case 3\n",
            "====================\n",
            "Passed test case 4\n",
            "====================\n",
            "Passed test case 5\n",
            "====================\n",
            "*****************************\n",
            "**  PASSED ALL TEST CASES  **\n",
            "*****************************\n"
          ]
        }
      ],
      "source": [
        "# TEST CASES -- DO NOT MODIFY\n",
        "\n",
        "# Test Case 1\n",
        "assert str_cmp(\"csce\", \"csce\") == True, \"Failed test case 1\"\n",
        "print(\"Passed test case 1\\n\" + \"=\"*20)\n",
        "\n",
        "# Test Case 2\n",
        "assert str_cmp(\"csce\", \"csce412\") == False, \"Failed test case 2\"\n",
        "print(\"Passed test case 2\\n\" + \"=\"*20)\n",
        "\n",
        "# Test Case 3\n",
        "assert str_cmp(\"MaChine LeArnIng\", \"machine learning\") == True, \"Failed test case 3\"\n",
        "print(\"Passed test case 3\\n\" + \"=\"*20)\n",
        "\n",
        "# Test Case 4\n",
        "assert str_cmp(\"Machine Learning!\", \"Machine Learning\") == False, \"Failed test case 4\"\n",
        "print(\"Passed test case 4\\n\" + \"=\"*20)\n",
        "\n",
        "# Test Case 5\n",
        "assert str_cmp(\"  Machine Learning\", \"machine    Learning \") == True, \"Failed test case 5\"\n",
        "print(\"Passed test case 5\\n\" + \"=\"*20)\n",
        "\n",
        "print(\"*\"*29 + \"\\n**  PASSED ALL TEST CASES  **\\n\" + \"*\"*29)"
      ]
    },
    {
      "cell_type": "markdown",
      "id": "538dfd1a",
      "metadata": {
        "id": "538dfd1a"
      },
      "source": [
        "### Question 2 (5 points)\n",
        "**Complete the function `power_list` in which each element is raised by its index to create a new list. Return the sum of the elements of the new list.**  \n",
        "\n",
        "Example:  \n",
        "given list: [1, 2, 3, 4]  \n",
        "new list: [1, 2, 9, 64]  \n",
        "sum of the elements of new list: 76"
      ]
    },
    {
      "cell_type": "code",
      "execution_count": 17,
      "id": "e103a1ec",
      "metadata": {
        "id": "e103a1ec"
      },
      "outputs": [],
      "source": [
        "def power_list(arr):\n",
        "    ## YOUR CODE HERE\n",
        "    i=0\n",
        "    m=0\n",
        "    nl= []\n",
        "    for j in arr:\n",
        "      nl.append(j**i)\n",
        "      i=i+1\n",
        "      m = sum(nl)\n",
        "    return m\n",
        "    "
      ]
    },
    {
      "cell_type": "code",
      "execution_count": 18,
      "id": "945f921a",
      "metadata": {
        "id": "945f921a",
        "colab": {
          "base_uri": "https://localhost:8080/"
        },
        "outputId": "5d07e287-67f9-4974-b9be-430d67d26c86"
      },
      "outputs": [
        {
          "output_type": "stream",
          "name": "stdout",
          "text": [
            "Passed test case 1\n",
            "====================\n",
            "Passed test case 2\n",
            "====================\n",
            "*****************************\n",
            "**  PASSED ALL TEST CASES  **\n",
            "*****************************\n"
          ]
        }
      ],
      "source": [
        "# TEST CASES -- DO NOT MODIFY\n",
        "\n",
        "# Test Case 1\n",
        "assert power_list([i for i in range(5)]) == 289, \"Failed test case 1\"\n",
        "print(\"Passed test case 1\\n\" + \"=\"*20)\n",
        "\n",
        "# Test Case 2\n",
        "assert power_list([-i for i in range(10, -1, -1)]) == 48, \"Failed test case 2\"\n",
        "print(\"Passed test case 2\\n\" + \"=\"*20)\n",
        "\n",
        "print(\"*\"*29 + \"\\n**  PASSED ALL TEST CASES  **\\n\" + \"*\"*29)"
      ]
    },
    {
      "cell_type": "markdown",
      "id": "bf2cfd31",
      "metadata": {
        "id": "bf2cfd31"
      },
      "source": [
        "### Question 3 (10 points)\n",
        "**Complete the function `create_stats` that returns the mean and median values of the values arranged in a nested list.**"
      ]
    },
    {
      "cell_type": "code",
      "execution_count": 3,
      "id": "58b94afd",
      "metadata": {
        "id": "58b94afd"
      },
      "outputs": [],
      "source": [
        "import numpy as np"
      ]
    },
    {
      "cell_type": "code",
      "execution_count": 4,
      "id": "663e8d08",
      "metadata": {
        "id": "663e8d08"
      },
      "outputs": [],
      "source": [
        "def create_stats(universities):\n",
        "    \"\"\"\n",
        "    Return a tuple of (mean students enrolled, median students enrolled, mean tuition, median tuition)\n",
        "    Return a tuple of (mean cars sold, median cars sold, mean MSRP, median MSRP)\n",
        "    \"\"\"\n",
        "    \n",
        "    # YOUR CODE HERE\n",
        "    u = [a[1] for a in universities]\n",
        "    c = [b[2] for b in universities]\n",
        "    return (np.mean(u), np.median(u), np.mean(c), np.median(c))"
      ]
    },
    {
      "cell_type": "code",
      "execution_count": 5,
      "id": "cef665e2",
      "metadata": {
        "id": "cef665e2",
        "colab": {
          "base_uri": "https://localhost:8080/"
        },
        "outputId": "a9146cb2-a4b7-4b09-b37c-4c5de2cd0e0a"
      },
      "outputs": [
        {
          "output_type": "stream",
          "name": "stdout",
          "text": [
            "Passed test case 1\n",
            "====================\n",
            "Passed test case 2\n",
            "====================\n",
            "*****************************\n",
            "**  PASSED ALL TEST CASES  **\n",
            "*****************************\n"
          ]
        }
      ],
      "source": [
        "# TEST CASES -- DO NOT MODIFY\n",
        "\n",
        "# [[university name, students enrolled, tuition]]\n",
        "universities = [\n",
        "    [\"Harvard\", 19627, 39849],\n",
        "    [\"Massachusetts Institute of Technology\", 10566, 40732],\n",
        "    [\"Princeton\", 7806, 37000],\n",
        "    [\"Rice\", 5870, 35551],\n",
        "    [\"Stanford\", 19539, 40569],\n",
        "    [\"Yale\", 11706, 40500],\n",
        "]\n",
        "\n",
        "# [[model, cars sold, MSRP]]\n",
        "cars = [\n",
        "    [\"Ford F-series\", 52314, 35000],\n",
        "    [\"Toyota RAV4\", 41145, 30000],\n",
        "    [\"Honda CR-V\", 31530, 32000],\n",
        "    [\"Toyota Camry\", 32959, 28000],\n",
        "    [\"Honda Civic\", 28318, 23000]\n",
        "]\n",
        "\n",
        "# Test Case 1\n",
        "assert create_stats(universities) == (12519.0, 11136.0, 39033.5, 40174.5), \"Failed test case 1\"\n",
        "print(\"Passed test case 1\\n\" + \"=\"*20)\n",
        "\n",
        "# Test Case 2\n",
        "assert create_stats(cars) == (37253.2, 32959, 29600.0, 30000), \"Failed test case 2\"\n",
        "print(\"Passed test case 2\\n\" + \"=\"*20)\n",
        "\n",
        "print(\"*\"*29 + \"\\n**  PASSED ALL TEST CASES  **\\n\" + \"*\"*29)"
      ]
    },
    {
      "cell_type": "markdown",
      "id": "f518dfb5",
      "metadata": {
        "id": "f518dfb5"
      },
      "source": [
        "# NumPy Basics"
      ]
    },
    {
      "cell_type": "markdown",
      "id": "9f7c5978",
      "metadata": {
        "id": "9f7c5978"
      },
      "source": [
        "### Question 4 (5 points)\n",
        "**Complete the function `matrix_reshape` to reshape a matrix to the target dimensions given by `n_rows` and `n_cols`.**"
      ]
    },
    {
      "cell_type": "code",
      "execution_count": 6,
      "id": "7b2ee854",
      "metadata": {
        "id": "7b2ee854"
      },
      "outputs": [],
      "source": [
        "def matrix_reshape(mat, n_rows, n_cols):\n",
        "    # YOUR CODE HERE\n",
        "    mat=mat.reshape(n_rows, n_cols)\n",
        "    return mat\n",
        "    "
      ]
    },
    {
      "cell_type": "code",
      "execution_count": 7,
      "id": "009922e4",
      "metadata": {
        "id": "009922e4",
        "outputId": "b6867e5b-9a72-44f1-be05-e10b64d15166",
        "colab": {
          "base_uri": "https://localhost:8080/"
        }
      },
      "outputs": [
        {
          "output_type": "stream",
          "name": "stdout",
          "text": [
            "Passed test case 1\n",
            "====================\n",
            "Passed test case 2\n",
            "====================\n",
            "*****************************\n",
            "**  PASSED ALL TEST CASES  **\n",
            "*****************************\n"
          ]
        }
      ],
      "source": [
        "# TEST CASES -- DO NOT MODIFY\n",
        "\n",
        "A = np.array([\n",
        "    [3, -4, 2, 9],\n",
        "    [6, 1, -5, 2],\n",
        "    [-7, 8, -1, 6]\n",
        "])\n",
        "\n",
        "# Test Case 1\n",
        "assert (matrix_reshape(np.arange(15), 3, 5) == np.array([[ 0,  1,  2,  3,  4], [ 5,  6,  7,  8,  9], \n",
        "                                                            [10, 11, 12, 13, 14]])).all(), \"Failed test case 1\"\n",
        "print(\"Passed test case 1\\n\" + \"=\"*20)\n",
        "\n",
        "# Test Case 2\n",
        "assert (matrix_reshape(A, 2, 6) == np.array([[ 3, -4,  2,  9,  6,  1],\n",
        "       [-5,  2, -7,  8, -1,  6]])).all(), \"Failed test case 2\"\n",
        "print(\"Passed test case 2\\n\" + \"=\"*20)\n",
        "\n",
        "print(\"*\"*29 + \"\\n**  PASSED ALL TEST CASES  **\\n\" + \"*\"*29)"
      ]
    },
    {
      "cell_type": "markdown",
      "id": "6be8fe6d",
      "metadata": {
        "id": "6be8fe6d"
      },
      "source": [
        "### Question 5 (5 points)\n",
        "**Complete the function `dot_product` that returns the dot product of two matrices. Dot product is also known as matrix multiplication.**"
      ]
    },
    {
      "cell_type": "code",
      "execution_count": 8,
      "id": "477e0de2",
      "metadata": {
        "id": "477e0de2"
      },
      "outputs": [],
      "source": [
        "def dot_product(mat_1, mat_2):\n",
        "    # YOUR CODE HERE\n",
        "    return np.matmul(mat_1,mat_2)\n",
        "    \n",
        "    "
      ]
    },
    {
      "cell_type": "code",
      "execution_count": 9,
      "id": "45463c9e",
      "metadata": {
        "id": "45463c9e",
        "colab": {
          "base_uri": "https://localhost:8080/"
        },
        "outputId": "49cb0535-b3c1-4de7-84f0-f0423b87ec78"
      },
      "outputs": [
        {
          "output_type": "stream",
          "name": "stdout",
          "text": [
            "Passed test case 1\n",
            "====================\n",
            "Passed test case 2\n",
            "====================\n",
            "Passed test case 3\n",
            "====================\n",
            "*****************************\n",
            "**  PASSED ALL TEST CASES  **\n",
            "*****************************\n"
          ]
        }
      ],
      "source": [
        "# TEST CASES -- DO NOT MODIFY\n",
        "\n",
        "A = np.array([\n",
        "    [3, -4, 2, 9],\n",
        "    [6, 1, -5, 2],\n",
        "    [-7, 8, -1, 6]\n",
        "])\n",
        "\n",
        "# Test Case 1\n",
        "assert dot_product(A[0,:], A[1,:]) == 22, \"Failed test case 1\"\n",
        "print(\"Passed test case 1\\n\" + \"=\"*20)\n",
        "\n",
        "# Test Case 2\n",
        "assert (dot_product(A[0,:], A.T) == np.array([110,  22,  -1])).all(), \"Failed test case 2\"\n",
        "print(\"Passed test case 2\\n\" + \"=\"*20)\n",
        "\n",
        "# Test Case 3\n",
        "assert (dot_product(A, A.T) == np.array([[110,  22,  -1], [ 22,  66, -17], \n",
        "                                               [ -1, -17, 150]])).all(), \"Failed test case 3\"\n",
        "print(\"Passed test case 3\\n\" + \"=\"*20)\n",
        "\n",
        "print(\"*\"*29 + \"\\n**  PASSED ALL TEST CASES  **\\n\" + \"*\"*29)"
      ]
    },
    {
      "cell_type": "markdown",
      "id": "7e8ead58",
      "metadata": {
        "id": "7e8ead58"
      },
      "source": [
        "### Question 6 (5 points)\n",
        "**Complete the function `cross_product` that returns the cross product of two matrices.**"
      ]
    },
    {
      "cell_type": "code",
      "execution_count": 10,
      "id": "79123733",
      "metadata": {
        "id": "79123733"
      },
      "outputs": [],
      "source": [
        "def cross_product(mat_1, mat_2):\n",
        "    # YOUR CODE HERE\n",
        "    return np.cross(mat_1,mat_2)\n",
        "    \n",
        "    \n",
        "    "
      ]
    },
    {
      "cell_type": "code",
      "execution_count": 11,
      "id": "5297b399",
      "metadata": {
        "id": "5297b399",
        "colab": {
          "base_uri": "https://localhost:8080/"
        },
        "outputId": "8ebf34b7-89d9-426a-c001-6350ea6ee8e9"
      },
      "outputs": [
        {
          "output_type": "stream",
          "name": "stdout",
          "text": [
            "Passed test case 1\n",
            "====================\n",
            "Passed test case 2\n",
            "====================\n",
            "*****************************\n",
            "**  PASSED ALL TEST CASES  **\n",
            "*****************************\n"
          ]
        }
      ],
      "source": [
        "# TEST CASES -- DO NOT MODIFY\n",
        "\n",
        "A = np.array([\n",
        "    [3, -4, 2, 9],\n",
        "    [6, 1, -5, 2],\n",
        "    [-7, 8, -1, 6]\n",
        "])\n",
        "\n",
        "# Test Case 1\n",
        "assert cross_product(A[0,:2], A[:2,1]) == -13, \"Failed test case 1\"\n",
        "print(\"Passed test case 1\\n\" + \"=\"*20)\n",
        "\n",
        "# Test Case 2\n",
        "assert cross_product(A[:2,:2], A[2:,2:])[0] == 14, \"Failed test case 2\"\n",
        "print(\"Passed test case 2\\n\" + \"=\"*20)\n",
        "\n",
        "print(\"*\"*29 + \"\\n**  PASSED ALL TEST CASES  **\\n\" + \"*\"*29)"
      ]
    },
    {
      "cell_type": "markdown",
      "id": "cd8ff4f9",
      "metadata": {
        "id": "cd8ff4f9"
      },
      "source": [
        "### Question 7 (5 points)\n",
        "**Complete the function `inverse` that computes the inverse of a matrix.**"
      ]
    },
    {
      "cell_type": "code",
      "execution_count": 12,
      "id": "f6602906",
      "metadata": {
        "id": "f6602906"
      },
      "outputs": [],
      "source": [
        "def inverse(mat):\n",
        "    # YOUR CODE HERE\n",
        "    return np.linalg.inv(mat)\n",
        "    "
      ]
    },
    {
      "cell_type": "code",
      "execution_count": 13,
      "id": "ae2d0a7e",
      "metadata": {
        "id": "ae2d0a7e",
        "colab": {
          "base_uri": "https://localhost:8080/"
        },
        "outputId": "17076492-675e-41a0-eacd-b268eca90720"
      },
      "outputs": [
        {
          "output_type": "stream",
          "name": "stdout",
          "text": [
            "Passed test case 1\n",
            "====================\n",
            "Passed test case 2\n",
            "====================\n",
            "*****************************\n",
            "**  PASSED ALL TEST CASES  **\n",
            "*****************************\n"
          ]
        }
      ],
      "source": [
        "# TEST CASES -- DO NOT MODIFY\n",
        "\n",
        "A = np.array([\n",
        "    [6, 1, 1],\n",
        "    [4, -2, 5],\n",
        "    [2, 8, 7]\n",
        "])\n",
        "\n",
        "# Test Case 1\n",
        "assert np.allclose(inverse(A), np.array([[ 0.17647059, -0.00326797, -0.02287582],\n",
        "       [ 0.05882353, -0.13071895,  0.08496732],\n",
        "       [-0.11764706,  0.1503268 ,  0.05228758]])), \"Failed test case 1\"\n",
        "print(\"Passed test case 1\\n\" + \"=\"*20)\n",
        "\n",
        "# Test Case 2\n",
        "assert (inverse(A[:2,:2]) == np.array([[ 0.125 ,  0.0625],\n",
        "       [ 0.25  , -0.375 ]])).all(), \"Failed test case 2\"\n",
        "print(\"Passed test case 2\\n\" + \"=\"*20)\n",
        "\n",
        "print(\"*\"*29 + \"\\n**  PASSED ALL TEST CASES  **\\n\" + \"*\"*29)"
      ]
    },
    {
      "cell_type": "markdown",
      "id": "676a062c",
      "metadata": {
        "id": "676a062c"
      },
      "source": [
        "### Question 8 (10 points)\n",
        "**Complete the function `subtract_mean` that subtracts the row-wise mean from each row of a matrix.**"
      ]
    },
    {
      "cell_type": "code",
      "execution_count": 14,
      "id": "d961fe24",
      "metadata": {
        "id": "d961fe24"
      },
      "outputs": [],
      "source": [
        "def subtract_mean(mat):\n",
        "    ## YOUR CODE HERE\n",
        "    return (np.subtract(mat.T, mat.mean(1))).T\n",
        "    "
      ]
    },
    {
      "cell_type": "code",
      "execution_count": 15,
      "id": "2c022f5d",
      "metadata": {
        "id": "2c022f5d",
        "colab": {
          "base_uri": "https://localhost:8080/"
        },
        "outputId": "25872622-5889-4d4e-de7c-f8933d961243"
      },
      "outputs": [
        {
          "output_type": "stream",
          "name": "stdout",
          "text": [
            "Passed test case 1\n",
            "====================\n",
            "Passed test case 2\n",
            "====================\n",
            "*****************************\n",
            "**  PASSED ALL TEST CASES  **\n",
            "*****************************\n"
          ]
        }
      ],
      "source": [
        "A = np.array([\n",
        "    [3, -4, 2, 9],\n",
        "    [6, 1, -5, 2],\n",
        "    [-7, 8, -1, 6]\n",
        "])\n",
        "\n",
        "# Test Case 1\n",
        "assert (subtract_mean(np.arange(12).reshape(4,3)) == np.array([[-1.,  0.,  1.], [-1.,  0.,  1.],\n",
        "       [-1.,  0.,  1.], [-1.,  0.,  1.]])).all(), \"Failed test case 1\"\n",
        "print(\"Passed test case 1\\n\" + \"=\"*20)\n",
        "\n",
        "# Test Case 2\n",
        "assert (subtract_mean(A) == np.array([[0.5, -6.5, -0.5,  6.5], [5. ,  0. , -6. ,  1. ], \n",
        "        [-8.5,  6.5, -2.5,  4.5]])).all(), \"Failed test case 2\"\n",
        "print(\"Passed test case 2\\n\" + \"=\"*20)\n",
        "\n",
        "print(\"*\"*29 + \"\\n**  PASSED ALL TEST CASES  **\\n\" + \"*\"*29)"
      ]
    },
    {
      "cell_type": "markdown",
      "id": "936fb3bc",
      "metadata": {
        "id": "936fb3bc"
      },
      "source": [
        "### Question 9 (10 points)\n",
        "**Complete the function `moving_average` that computes averages over a sliding window of size `window_size` for a 1-D array.**"
      ]
    },
    {
      "cell_type": "code",
      "execution_count": 16,
      "id": "95012d0c",
      "metadata": {
        "id": "95012d0c"
      },
      "outputs": [],
      "source": [
        "def moving_average(arr, window_size):\n",
        "    # YOUR CODE HERE\n",
        "    a = np.cumsum(arr)\n",
        "    a[window_size:] = a[window_size:]-a[:-window_size]\n",
        "    return a[window_size-1:]/window_size"
      ]
    },
    {
      "cell_type": "code",
      "execution_count": 17,
      "id": "463a46d1",
      "metadata": {
        "id": "463a46d1",
        "colab": {
          "base_uri": "https://localhost:8080/"
        },
        "outputId": "e3b7bf91-de27-4dbb-cdca-7c9697c8d6c2"
      },
      "outputs": [
        {
          "output_type": "stream",
          "name": "stdout",
          "text": [
            "Passed test case 1\n",
            "====================\n",
            "Passed test case 2\n",
            "====================\n",
            "*****************************\n",
            "**  PASSED ALL TEST CASES  **\n",
            "*****************************\n"
          ]
        }
      ],
      "source": [
        "# Test Case 1\n",
        "assert (moving_average(np.arange(10), 3) == np.arange(8)+1).all(), \"Failed test case 1\"\n",
        "print(\"Passed test case 1\\n\" + \"=\"*20)\n",
        "\n",
        "# Test Case 2\n",
        "assert (moving_average(np.array([-10, 5, 6, -4, 7, 9]), 2) == \n",
        "        np.array([-2.5, 5.5, 1, 1.5, 8])).all(), \"Failed test case 2\"\n",
        "print(\"Passed test case 2\\n\" + \"=\"*20)\n",
        "\n",
        "print(\"*\"*29 + \"\\n**  PASSED ALL TEST CASES  **\\n\" + \"*\"*29)"
      ]
    },
    {
      "cell_type": "markdown",
      "id": "9aa618f6",
      "metadata": {
        "id": "9aa618f6"
      },
      "source": [
        "# Pandas Basics"
      ]
    },
    {
      "cell_type": "code",
      "execution_count": 18,
      "id": "edd1866d",
      "metadata": {
        "id": "edd1866d"
      },
      "outputs": [],
      "source": [
        "import pandas as pd"
      ]
    },
    {
      "cell_type": "markdown",
      "id": "2395daa3",
      "metadata": {
        "id": "2395daa3"
      },
      "source": [
        "The provided data contains flight delay information over a period of 3 days.\n",
        "\n",
        "**Data Description**    \n",
        "`From`: Source City  \n",
        "`To`: Destination City  \n",
        "`Flight Number`: Flight ID  \n",
        "`Delay_1`: Delay on Day 1  \n",
        "`Delay_2`: Delay on Day 2  \n",
        "`Delay_3`: Delay on Day 3  \n",
        "`Airline`: Carrier  "
      ]
    },
    {
      "cell_type": "code",
      "execution_count": 19,
      "id": "dc153bef",
      "metadata": {
        "id": "dc153bef"
      },
      "outputs": [],
      "source": [
        "data = {'From': ['London', 'Madrid', 'London', \n",
        "                   'Budapest', 'Brussels'],\n",
        "        'To': ['Paris', 'Milan', 'Stockholm', 'Paris', 'London'],\n",
        "        'FlightNumber': [10045, np.nan, 10065, np.nan, 10085],\n",
        "        'Delay_1': [23, np.nan, 24, 13, 67],\n",
        "        'Delay_2': [47, np.nan, 43, np.nan, 32],\n",
        "        'Delay_3': [np.nan, np.nan, 87, np.nan, np.nan],\n",
        "        'Airline': ['KLM', 'Air France', 'British Airways', \n",
        "                    'Air France', 'Swiss Air']}"
      ]
    },
    {
      "cell_type": "code",
      "execution_count": 20,
      "id": "015629c8",
      "metadata": {
        "id": "015629c8"
      },
      "outputs": [],
      "source": [
        "df = pd.DataFrame(data)"
      ]
    },
    {
      "cell_type": "code",
      "execution_count": 21,
      "id": "6822ed9f",
      "metadata": {
        "id": "6822ed9f",
        "colab": {
          "base_uri": "https://localhost:8080/",
          "height": 206
        },
        "outputId": "854d347f-5cb6-45e8-b011-134f81fde9af"
      },
      "outputs": [
        {
          "output_type": "execute_result",
          "data": {
            "text/html": [
              "\n",
              "  <div id=\"df-efb0e440-6709-450e-b40c-7a2fb18fa28c\">\n",
              "    <div class=\"colab-df-container\">\n",
              "      <div>\n",
              "<style scoped>\n",
              "    .dataframe tbody tr th:only-of-type {\n",
              "        vertical-align: middle;\n",
              "    }\n",
              "\n",
              "    .dataframe tbody tr th {\n",
              "        vertical-align: top;\n",
              "    }\n",
              "\n",
              "    .dataframe thead th {\n",
              "        text-align: right;\n",
              "    }\n",
              "</style>\n",
              "<table border=\"1\" class=\"dataframe\">\n",
              "  <thead>\n",
              "    <tr style=\"text-align: right;\">\n",
              "      <th></th>\n",
              "      <th>From</th>\n",
              "      <th>To</th>\n",
              "      <th>FlightNumber</th>\n",
              "      <th>Delay_1</th>\n",
              "      <th>Delay_2</th>\n",
              "      <th>Delay_3</th>\n",
              "      <th>Airline</th>\n",
              "    </tr>\n",
              "  </thead>\n",
              "  <tbody>\n",
              "    <tr>\n",
              "      <th>0</th>\n",
              "      <td>London</td>\n",
              "      <td>Paris</td>\n",
              "      <td>10045.0</td>\n",
              "      <td>23.0</td>\n",
              "      <td>47.0</td>\n",
              "      <td>NaN</td>\n",
              "      <td>KLM</td>\n",
              "    </tr>\n",
              "    <tr>\n",
              "      <th>1</th>\n",
              "      <td>Madrid</td>\n",
              "      <td>Milan</td>\n",
              "      <td>NaN</td>\n",
              "      <td>NaN</td>\n",
              "      <td>NaN</td>\n",
              "      <td>NaN</td>\n",
              "      <td>Air France</td>\n",
              "    </tr>\n",
              "    <tr>\n",
              "      <th>2</th>\n",
              "      <td>London</td>\n",
              "      <td>Stockholm</td>\n",
              "      <td>10065.0</td>\n",
              "      <td>24.0</td>\n",
              "      <td>43.0</td>\n",
              "      <td>87.0</td>\n",
              "      <td>British Airways</td>\n",
              "    </tr>\n",
              "    <tr>\n",
              "      <th>3</th>\n",
              "      <td>Budapest</td>\n",
              "      <td>Paris</td>\n",
              "      <td>NaN</td>\n",
              "      <td>13.0</td>\n",
              "      <td>NaN</td>\n",
              "      <td>NaN</td>\n",
              "      <td>Air France</td>\n",
              "    </tr>\n",
              "    <tr>\n",
              "      <th>4</th>\n",
              "      <td>Brussels</td>\n",
              "      <td>London</td>\n",
              "      <td>10085.0</td>\n",
              "      <td>67.0</td>\n",
              "      <td>32.0</td>\n",
              "      <td>NaN</td>\n",
              "      <td>Swiss Air</td>\n",
              "    </tr>\n",
              "  </tbody>\n",
              "</table>\n",
              "</div>\n",
              "      <button class=\"colab-df-convert\" onclick=\"convertToInteractive('df-efb0e440-6709-450e-b40c-7a2fb18fa28c')\"\n",
              "              title=\"Convert this dataframe to an interactive table.\"\n",
              "              style=\"display:none;\">\n",
              "        \n",
              "  <svg xmlns=\"http://www.w3.org/2000/svg\" height=\"24px\"viewBox=\"0 0 24 24\"\n",
              "       width=\"24px\">\n",
              "    <path d=\"M0 0h24v24H0V0z\" fill=\"none\"/>\n",
              "    <path d=\"M18.56 5.44l.94 2.06.94-2.06 2.06-.94-2.06-.94-.94-2.06-.94 2.06-2.06.94zm-11 1L8.5 8.5l.94-2.06 2.06-.94-2.06-.94L8.5 2.5l-.94 2.06-2.06.94zm10 10l.94 2.06.94-2.06 2.06-.94-2.06-.94-.94-2.06-.94 2.06-2.06.94z\"/><path d=\"M17.41 7.96l-1.37-1.37c-.4-.4-.92-.59-1.43-.59-.52 0-1.04.2-1.43.59L10.3 9.45l-7.72 7.72c-.78.78-.78 2.05 0 2.83L4 21.41c.39.39.9.59 1.41.59.51 0 1.02-.2 1.41-.59l7.78-7.78 2.81-2.81c.8-.78.8-2.07 0-2.86zM5.41 20L4 18.59l7.72-7.72 1.47 1.35L5.41 20z\"/>\n",
              "  </svg>\n",
              "      </button>\n",
              "      \n",
              "  <style>\n",
              "    .colab-df-container {\n",
              "      display:flex;\n",
              "      flex-wrap:wrap;\n",
              "      gap: 12px;\n",
              "    }\n",
              "\n",
              "    .colab-df-convert {\n",
              "      background-color: #E8F0FE;\n",
              "      border: none;\n",
              "      border-radius: 50%;\n",
              "      cursor: pointer;\n",
              "      display: none;\n",
              "      fill: #1967D2;\n",
              "      height: 32px;\n",
              "      padding: 0 0 0 0;\n",
              "      width: 32px;\n",
              "    }\n",
              "\n",
              "    .colab-df-convert:hover {\n",
              "      background-color: #E2EBFA;\n",
              "      box-shadow: 0px 1px 2px rgba(60, 64, 67, 0.3), 0px 1px 3px 1px rgba(60, 64, 67, 0.15);\n",
              "      fill: #174EA6;\n",
              "    }\n",
              "\n",
              "    [theme=dark] .colab-df-convert {\n",
              "      background-color: #3B4455;\n",
              "      fill: #D2E3FC;\n",
              "    }\n",
              "\n",
              "    [theme=dark] .colab-df-convert:hover {\n",
              "      background-color: #434B5C;\n",
              "      box-shadow: 0px 1px 3px 1px rgba(0, 0, 0, 0.15);\n",
              "      filter: drop-shadow(0px 1px 2px rgba(0, 0, 0, 0.3));\n",
              "      fill: #FFFFFF;\n",
              "    }\n",
              "  </style>\n",
              "\n",
              "      <script>\n",
              "        const buttonEl =\n",
              "          document.querySelector('#df-efb0e440-6709-450e-b40c-7a2fb18fa28c button.colab-df-convert');\n",
              "        buttonEl.style.display =\n",
              "          google.colab.kernel.accessAllowed ? 'block' : 'none';\n",
              "\n",
              "        async function convertToInteractive(key) {\n",
              "          const element = document.querySelector('#df-efb0e440-6709-450e-b40c-7a2fb18fa28c');\n",
              "          const dataTable =\n",
              "            await google.colab.kernel.invokeFunction('convertToInteractive',\n",
              "                                                     [key], {});\n",
              "          if (!dataTable) return;\n",
              "\n",
              "          const docLinkHtml = 'Like what you see? Visit the ' +\n",
              "            '<a target=\"_blank\" href=https://colab.research.google.com/notebooks/data_table.ipynb>data table notebook</a>'\n",
              "            + ' to learn more about interactive tables.';\n",
              "          element.innerHTML = '';\n",
              "          dataTable['output_type'] = 'display_data';\n",
              "          await google.colab.output.renderOutput(dataTable, element);\n",
              "          const docLink = document.createElement('div');\n",
              "          docLink.innerHTML = docLinkHtml;\n",
              "          element.appendChild(docLink);\n",
              "        }\n",
              "      </script>\n",
              "    </div>\n",
              "  </div>\n",
              "  "
            ],
            "text/plain": [
              "       From         To  FlightNumber  ...  Delay_2  Delay_3          Airline\n",
              "0    London      Paris       10045.0  ...     47.0      NaN              KLM\n",
              "1    Madrid      Milan           NaN  ...      NaN      NaN       Air France\n",
              "2    London  Stockholm       10065.0  ...     43.0     87.0  British Airways\n",
              "3  Budapest      Paris           NaN  ...      NaN      NaN       Air France\n",
              "4  Brussels     London       10085.0  ...     32.0      NaN        Swiss Air\n",
              "\n",
              "[5 rows x 7 columns]"
            ]
          },
          "metadata": {},
          "execution_count": 21
        }
      ],
      "source": [
        "df.head()"
      ]
    },
    {
      "cell_type": "markdown",
      "id": "1d9d8114",
      "metadata": {
        "id": "1d9d8114"
      },
      "source": [
        "### Question 10 (5 points)\n",
        "**Compute the number of unique cities in `df`.**"
      ]
    },
    {
      "cell_type": "code",
      "execution_count": 22,
      "id": "346c1a8a",
      "metadata": {
        "id": "346c1a8a",
        "colab": {
          "base_uri": "https://localhost:8080/"
        },
        "outputId": "dd6ee20b-3486-426d-d097-552a9628ccd8"
      },
      "outputs": [
        {
          "output_type": "execute_result",
          "data": {
            "text/plain": [
              "array(['London', 'Madrid', 'Budapest', 'Brussels', 'Paris', 'Milan',\n",
              "       'Stockholm'], dtype=object)"
            ]
          },
          "metadata": {},
          "execution_count": 22
        }
      ],
      "source": [
        "## YOUR CODE HERE\n",
        "a = (df.From).append(df.To)\n",
        "pd.unique(a)"
      ]
    },
    {
      "cell_type": "markdown",
      "id": "c465de2a",
      "metadata": {
        "id": "c465de2a"
      },
      "source": [
        "### Question 11 (5 points)\n",
        "**Calculate the number of flights flying out of `London`.**"
      ]
    },
    {
      "cell_type": "code",
      "execution_count": 23,
      "id": "8d9d5fe8",
      "metadata": {
        "id": "8d9d5fe8",
        "colab": {
          "base_uri": "https://localhost:8080/"
        },
        "outputId": "022a5c38-2731-46f6-8b2d-2b333c36542b"
      },
      "outputs": [
        {
          "output_type": "execute_result",
          "data": {
            "text/plain": [
              "2"
            ]
          },
          "metadata": {},
          "execution_count": 23
        }
      ],
      "source": [
        "## YOUR CODE HERE\n",
        "(df[df['From']=='London']['From']).count()\n"
      ]
    },
    {
      "cell_type": "markdown",
      "id": "b68b65f8",
      "metadata": {
        "id": "b68b65f8"
      },
      "source": [
        "### Question 12 (5 points)\n",
        "**Which cities are served by `Air France`?**"
      ]
    },
    {
      "cell_type": "code",
      "execution_count": 24,
      "id": "717d4485",
      "metadata": {
        "id": "717d4485",
        "colab": {
          "base_uri": "https://localhost:8080/"
        },
        "outputId": "0c99ea95-d8cb-4324-d8dd-c2deb2d3e705"
      },
      "outputs": [
        {
          "output_type": "execute_result",
          "data": {
            "text/plain": [
              "array(['Madrid', 'Budapest', 'Milan', 'Paris'], dtype=object)"
            ]
          },
          "metadata": {},
          "execution_count": 24
        }
      ],
      "source": [
        "## YOUR CODE HERE\n",
        "(df[df['Airline']=='Air France'].From).append(df[df['Airline']=='Air France'].To).unique()\n"
      ]
    },
    {
      "cell_type": "markdown",
      "id": "466270e6",
      "metadata": {
        "id": "466270e6"
      },
      "source": [
        "### Question 13 (5 points)\n",
        "**Calculate the total number of missing values (they are `NaN`) in `df`.**"
      ]
    },
    {
      "cell_type": "code",
      "execution_count": 27,
      "id": "2d8f4abd",
      "metadata": {
        "id": "2d8f4abd",
        "colab": {
          "base_uri": "https://localhost:8080/"
        },
        "outputId": "ad90da68-9fbc-45fa-e101-b06c396bc9d2"
      },
      "outputs": [
        {
          "output_type": "execute_result",
          "data": {
            "text/plain": [
              "9"
            ]
          },
          "metadata": {},
          "execution_count": 27
        }
      ],
      "source": [
        "## YOUR CODE HERE\n",
        "df.isnull().sum().sum()\n"
      ]
    },
    {
      "cell_type": "markdown",
      "id": "b26b0d55",
      "metadata": {
        "id": "b26b0d55"
      },
      "source": [
        "### Question 14 (10 points)\n",
        "**Calculate the average delay (ignoring `NaN` values) for all the flights. Then modify `df` by replacing all the `NaN` values in `Delay_1`, `Delay_2`, and, `Delay_3` columns with the average delay.**"
      ]
    },
    {
      "cell_type": "code",
      "execution_count": 30,
      "id": "b0e6425c",
      "metadata": {
        "id": "b0e6425c"
      },
      "outputs": [],
      "source": [
        "# YOUR CODE HERE\n",
        "\n",
        "df['Delay_1']=df['Delay_1'].replace(np.NaN,df['Delay_1'].mean())\n",
        "df['Delay_2']=df['Delay_2'].replace(np.NaN,df['Delay_2'].mean())\n",
        "df['Delay_3']=df['Delay_3'].replace(np.NaN,df['Delay_3'].mean())\n"
      ]
    },
    {
      "cell_type": "code",
      "execution_count": 31,
      "id": "94c59963",
      "metadata": {
        "id": "94c59963",
        "colab": {
          "base_uri": "https://localhost:8080/",
          "height": 206
        },
        "outputId": "7c591dda-cb21-47f1-97fb-fd06de119500"
      },
      "outputs": [
        {
          "output_type": "execute_result",
          "data": {
            "text/html": [
              "\n",
              "  <div id=\"df-caa5da28-37b5-4fee-98e7-e7447e432818\">\n",
              "    <div class=\"colab-df-container\">\n",
              "      <div>\n",
              "<style scoped>\n",
              "    .dataframe tbody tr th:only-of-type {\n",
              "        vertical-align: middle;\n",
              "    }\n",
              "\n",
              "    .dataframe tbody tr th {\n",
              "        vertical-align: top;\n",
              "    }\n",
              "\n",
              "    .dataframe thead th {\n",
              "        text-align: right;\n",
              "    }\n",
              "</style>\n",
              "<table border=\"1\" class=\"dataframe\">\n",
              "  <thead>\n",
              "    <tr style=\"text-align: right;\">\n",
              "      <th></th>\n",
              "      <th>From</th>\n",
              "      <th>To</th>\n",
              "      <th>FlightNumber</th>\n",
              "      <th>Delay_1</th>\n",
              "      <th>Delay_2</th>\n",
              "      <th>Delay_3</th>\n",
              "      <th>Airline</th>\n",
              "    </tr>\n",
              "  </thead>\n",
              "  <tbody>\n",
              "    <tr>\n",
              "      <th>0</th>\n",
              "      <td>London</td>\n",
              "      <td>Paris</td>\n",
              "      <td>10045.0</td>\n",
              "      <td>23.00</td>\n",
              "      <td>47.000000</td>\n",
              "      <td>87.0</td>\n",
              "      <td>KLM</td>\n",
              "    </tr>\n",
              "    <tr>\n",
              "      <th>1</th>\n",
              "      <td>Madrid</td>\n",
              "      <td>Milan</td>\n",
              "      <td>NaN</td>\n",
              "      <td>31.75</td>\n",
              "      <td>40.666667</td>\n",
              "      <td>87.0</td>\n",
              "      <td>Air France</td>\n",
              "    </tr>\n",
              "    <tr>\n",
              "      <th>2</th>\n",
              "      <td>London</td>\n",
              "      <td>Stockholm</td>\n",
              "      <td>10065.0</td>\n",
              "      <td>24.00</td>\n",
              "      <td>43.000000</td>\n",
              "      <td>87.0</td>\n",
              "      <td>British Airways</td>\n",
              "    </tr>\n",
              "    <tr>\n",
              "      <th>3</th>\n",
              "      <td>Budapest</td>\n",
              "      <td>Paris</td>\n",
              "      <td>NaN</td>\n",
              "      <td>13.00</td>\n",
              "      <td>40.666667</td>\n",
              "      <td>87.0</td>\n",
              "      <td>Air France</td>\n",
              "    </tr>\n",
              "    <tr>\n",
              "      <th>4</th>\n",
              "      <td>Brussels</td>\n",
              "      <td>London</td>\n",
              "      <td>10085.0</td>\n",
              "      <td>67.00</td>\n",
              "      <td>32.000000</td>\n",
              "      <td>87.0</td>\n",
              "      <td>Swiss Air</td>\n",
              "    </tr>\n",
              "  </tbody>\n",
              "</table>\n",
              "</div>\n",
              "      <button class=\"colab-df-convert\" onclick=\"convertToInteractive('df-caa5da28-37b5-4fee-98e7-e7447e432818')\"\n",
              "              title=\"Convert this dataframe to an interactive table.\"\n",
              "              style=\"display:none;\">\n",
              "        \n",
              "  <svg xmlns=\"http://www.w3.org/2000/svg\" height=\"24px\"viewBox=\"0 0 24 24\"\n",
              "       width=\"24px\">\n",
              "    <path d=\"M0 0h24v24H0V0z\" fill=\"none\"/>\n",
              "    <path d=\"M18.56 5.44l.94 2.06.94-2.06 2.06-.94-2.06-.94-.94-2.06-.94 2.06-2.06.94zm-11 1L8.5 8.5l.94-2.06 2.06-.94-2.06-.94L8.5 2.5l-.94 2.06-2.06.94zm10 10l.94 2.06.94-2.06 2.06-.94-2.06-.94-.94-2.06-.94 2.06-2.06.94z\"/><path d=\"M17.41 7.96l-1.37-1.37c-.4-.4-.92-.59-1.43-.59-.52 0-1.04.2-1.43.59L10.3 9.45l-7.72 7.72c-.78.78-.78 2.05 0 2.83L4 21.41c.39.39.9.59 1.41.59.51 0 1.02-.2 1.41-.59l7.78-7.78 2.81-2.81c.8-.78.8-2.07 0-2.86zM5.41 20L4 18.59l7.72-7.72 1.47 1.35L5.41 20z\"/>\n",
              "  </svg>\n",
              "      </button>\n",
              "      \n",
              "  <style>\n",
              "    .colab-df-container {\n",
              "      display:flex;\n",
              "      flex-wrap:wrap;\n",
              "      gap: 12px;\n",
              "    }\n",
              "\n",
              "    .colab-df-convert {\n",
              "      background-color: #E8F0FE;\n",
              "      border: none;\n",
              "      border-radius: 50%;\n",
              "      cursor: pointer;\n",
              "      display: none;\n",
              "      fill: #1967D2;\n",
              "      height: 32px;\n",
              "      padding: 0 0 0 0;\n",
              "      width: 32px;\n",
              "    }\n",
              "\n",
              "    .colab-df-convert:hover {\n",
              "      background-color: #E2EBFA;\n",
              "      box-shadow: 0px 1px 2px rgba(60, 64, 67, 0.3), 0px 1px 3px 1px rgba(60, 64, 67, 0.15);\n",
              "      fill: #174EA6;\n",
              "    }\n",
              "\n",
              "    [theme=dark] .colab-df-convert {\n",
              "      background-color: #3B4455;\n",
              "      fill: #D2E3FC;\n",
              "    }\n",
              "\n",
              "    [theme=dark] .colab-df-convert:hover {\n",
              "      background-color: #434B5C;\n",
              "      box-shadow: 0px 1px 3px 1px rgba(0, 0, 0, 0.15);\n",
              "      filter: drop-shadow(0px 1px 2px rgba(0, 0, 0, 0.3));\n",
              "      fill: #FFFFFF;\n",
              "    }\n",
              "  </style>\n",
              "\n",
              "      <script>\n",
              "        const buttonEl =\n",
              "          document.querySelector('#df-caa5da28-37b5-4fee-98e7-e7447e432818 button.colab-df-convert');\n",
              "        buttonEl.style.display =\n",
              "          google.colab.kernel.accessAllowed ? 'block' : 'none';\n",
              "\n",
              "        async function convertToInteractive(key) {\n",
              "          const element = document.querySelector('#df-caa5da28-37b5-4fee-98e7-e7447e432818');\n",
              "          const dataTable =\n",
              "            await google.colab.kernel.invokeFunction('convertToInteractive',\n",
              "                                                     [key], {});\n",
              "          if (!dataTable) return;\n",
              "\n",
              "          const docLinkHtml = 'Like what you see? Visit the ' +\n",
              "            '<a target=\"_blank\" href=https://colab.research.google.com/notebooks/data_table.ipynb>data table notebook</a>'\n",
              "            + ' to learn more about interactive tables.';\n",
              "          element.innerHTML = '';\n",
              "          dataTable['output_type'] = 'display_data';\n",
              "          await google.colab.output.renderOutput(dataTable, element);\n",
              "          const docLink = document.createElement('div');\n",
              "          docLink.innerHTML = docLinkHtml;\n",
              "          element.appendChild(docLink);\n",
              "        }\n",
              "      </script>\n",
              "    </div>\n",
              "  </div>\n",
              "  "
            ],
            "text/plain": [
              "       From         To  FlightNumber  ...    Delay_2  Delay_3          Airline\n",
              "0    London      Paris       10045.0  ...  47.000000     87.0              KLM\n",
              "1    Madrid      Milan           NaN  ...  40.666667     87.0       Air France\n",
              "2    London  Stockholm       10065.0  ...  43.000000     87.0  British Airways\n",
              "3  Budapest      Paris           NaN  ...  40.666667     87.0       Air France\n",
              "4  Brussels     London       10085.0  ...  32.000000     87.0        Swiss Air\n",
              "\n",
              "[5 rows x 7 columns]"
            ]
          },
          "metadata": {},
          "execution_count": 31
        }
      ],
      "source": [
        "df.head()"
      ]
    },
    {
      "cell_type": "markdown",
      "id": "c5452f65",
      "metadata": {
        "id": "c5452f65"
      },
      "source": [
        "### Question 15 (10 points)\n",
        "**Some values in the the `FlightNumber` column are missing (`NaN`). These numbers are meant to increase by 10 with each row. So, the `FlightNumber` at row labels 1 and 3 should be 10055 and 10075 respectively. Modify `df` to fill in these missing numbers and make the column an integer column (instead of a float column).**"
      ]
    },
    {
      "cell_type": "code",
      "execution_count": null,
      "id": "cce26572",
      "metadata": {
        "id": "cce26572"
      },
      "outputs": [],
      "source": [
        "## YOUR CODE HERE\n",
        "df['FlightNumber']=df['FlightNumber'].replace(np.NaN,0)\n",
        "df['FlightNumber']=df['FlightNumber'].astype(int)\n",
        "a=10045\n",
        "m=0\n",
        "for i in df['FlightNumber']:\n",
        "  df['FlightNumber'][m]=a + 10*(m)\n",
        "  m=m+1\n"
      ]
    },
    {
      "cell_type": "code",
      "execution_count": 44,
      "id": "7f581e05",
      "metadata": {
        "id": "7f581e05",
        "colab": {
          "base_uri": "https://localhost:8080/",
          "height": 206
        },
        "outputId": "ab8c9a52-a744-4531-c61b-ee5dc3858099"
      },
      "outputs": [
        {
          "output_type": "execute_result",
          "data": {
            "text/html": [
              "\n",
              "  <div id=\"df-c829631f-2ce3-4a50-b2ba-25847b8f2922\">\n",
              "    <div class=\"colab-df-container\">\n",
              "      <div>\n",
              "<style scoped>\n",
              "    .dataframe tbody tr th:only-of-type {\n",
              "        vertical-align: middle;\n",
              "    }\n",
              "\n",
              "    .dataframe tbody tr th {\n",
              "        vertical-align: top;\n",
              "    }\n",
              "\n",
              "    .dataframe thead th {\n",
              "        text-align: right;\n",
              "    }\n",
              "</style>\n",
              "<table border=\"1\" class=\"dataframe\">\n",
              "  <thead>\n",
              "    <tr style=\"text-align: right;\">\n",
              "      <th></th>\n",
              "      <th>From</th>\n",
              "      <th>To</th>\n",
              "      <th>FlightNumber</th>\n",
              "      <th>Delay_1</th>\n",
              "      <th>Delay_2</th>\n",
              "      <th>Delay_3</th>\n",
              "      <th>Airline</th>\n",
              "    </tr>\n",
              "  </thead>\n",
              "  <tbody>\n",
              "    <tr>\n",
              "      <th>0</th>\n",
              "      <td>London</td>\n",
              "      <td>Paris</td>\n",
              "      <td>10045</td>\n",
              "      <td>23.00</td>\n",
              "      <td>47.000000</td>\n",
              "      <td>87.0</td>\n",
              "      <td>KLM</td>\n",
              "    </tr>\n",
              "    <tr>\n",
              "      <th>1</th>\n",
              "      <td>Madrid</td>\n",
              "      <td>Milan</td>\n",
              "      <td>10055</td>\n",
              "      <td>31.75</td>\n",
              "      <td>40.666667</td>\n",
              "      <td>87.0</td>\n",
              "      <td>Air France</td>\n",
              "    </tr>\n",
              "    <tr>\n",
              "      <th>2</th>\n",
              "      <td>London</td>\n",
              "      <td>Stockholm</td>\n",
              "      <td>10065</td>\n",
              "      <td>24.00</td>\n",
              "      <td>43.000000</td>\n",
              "      <td>87.0</td>\n",
              "      <td>British Airways</td>\n",
              "    </tr>\n",
              "    <tr>\n",
              "      <th>3</th>\n",
              "      <td>Budapest</td>\n",
              "      <td>Paris</td>\n",
              "      <td>10075</td>\n",
              "      <td>13.00</td>\n",
              "      <td>40.666667</td>\n",
              "      <td>87.0</td>\n",
              "      <td>Air France</td>\n",
              "    </tr>\n",
              "    <tr>\n",
              "      <th>4</th>\n",
              "      <td>Brussels</td>\n",
              "      <td>London</td>\n",
              "      <td>10085</td>\n",
              "      <td>67.00</td>\n",
              "      <td>32.000000</td>\n",
              "      <td>87.0</td>\n",
              "      <td>Swiss Air</td>\n",
              "    </tr>\n",
              "  </tbody>\n",
              "</table>\n",
              "</div>\n",
              "      <button class=\"colab-df-convert\" onclick=\"convertToInteractive('df-c829631f-2ce3-4a50-b2ba-25847b8f2922')\"\n",
              "              title=\"Convert this dataframe to an interactive table.\"\n",
              "              style=\"display:none;\">\n",
              "        \n",
              "  <svg xmlns=\"http://www.w3.org/2000/svg\" height=\"24px\"viewBox=\"0 0 24 24\"\n",
              "       width=\"24px\">\n",
              "    <path d=\"M0 0h24v24H0V0z\" fill=\"none\"/>\n",
              "    <path d=\"M18.56 5.44l.94 2.06.94-2.06 2.06-.94-2.06-.94-.94-2.06-.94 2.06-2.06.94zm-11 1L8.5 8.5l.94-2.06 2.06-.94-2.06-.94L8.5 2.5l-.94 2.06-2.06.94zm10 10l.94 2.06.94-2.06 2.06-.94-2.06-.94-.94-2.06-.94 2.06-2.06.94z\"/><path d=\"M17.41 7.96l-1.37-1.37c-.4-.4-.92-.59-1.43-.59-.52 0-1.04.2-1.43.59L10.3 9.45l-7.72 7.72c-.78.78-.78 2.05 0 2.83L4 21.41c.39.39.9.59 1.41.59.51 0 1.02-.2 1.41-.59l7.78-7.78 2.81-2.81c.8-.78.8-2.07 0-2.86zM5.41 20L4 18.59l7.72-7.72 1.47 1.35L5.41 20z\"/>\n",
              "  </svg>\n",
              "      </button>\n",
              "      \n",
              "  <style>\n",
              "    .colab-df-container {\n",
              "      display:flex;\n",
              "      flex-wrap:wrap;\n",
              "      gap: 12px;\n",
              "    }\n",
              "\n",
              "    .colab-df-convert {\n",
              "      background-color: #E8F0FE;\n",
              "      border: none;\n",
              "      border-radius: 50%;\n",
              "      cursor: pointer;\n",
              "      display: none;\n",
              "      fill: #1967D2;\n",
              "      height: 32px;\n",
              "      padding: 0 0 0 0;\n",
              "      width: 32px;\n",
              "    }\n",
              "\n",
              "    .colab-df-convert:hover {\n",
              "      background-color: #E2EBFA;\n",
              "      box-shadow: 0px 1px 2px rgba(60, 64, 67, 0.3), 0px 1px 3px 1px rgba(60, 64, 67, 0.15);\n",
              "      fill: #174EA6;\n",
              "    }\n",
              "\n",
              "    [theme=dark] .colab-df-convert {\n",
              "      background-color: #3B4455;\n",
              "      fill: #D2E3FC;\n",
              "    }\n",
              "\n",
              "    [theme=dark] .colab-df-convert:hover {\n",
              "      background-color: #434B5C;\n",
              "      box-shadow: 0px 1px 3px 1px rgba(0, 0, 0, 0.15);\n",
              "      filter: drop-shadow(0px 1px 2px rgba(0, 0, 0, 0.3));\n",
              "      fill: #FFFFFF;\n",
              "    }\n",
              "  </style>\n",
              "\n",
              "      <script>\n",
              "        const buttonEl =\n",
              "          document.querySelector('#df-c829631f-2ce3-4a50-b2ba-25847b8f2922 button.colab-df-convert');\n",
              "        buttonEl.style.display =\n",
              "          google.colab.kernel.accessAllowed ? 'block' : 'none';\n",
              "\n",
              "        async function convertToInteractive(key) {\n",
              "          const element = document.querySelector('#df-c829631f-2ce3-4a50-b2ba-25847b8f2922');\n",
              "          const dataTable =\n",
              "            await google.colab.kernel.invokeFunction('convertToInteractive',\n",
              "                                                     [key], {});\n",
              "          if (!dataTable) return;\n",
              "\n",
              "          const docLinkHtml = 'Like what you see? Visit the ' +\n",
              "            '<a target=\"_blank\" href=https://colab.research.google.com/notebooks/data_table.ipynb>data table notebook</a>'\n",
              "            + ' to learn more about interactive tables.';\n",
              "          element.innerHTML = '';\n",
              "          dataTable['output_type'] = 'display_data';\n",
              "          await google.colab.output.renderOutput(dataTable, element);\n",
              "          const docLink = document.createElement('div');\n",
              "          docLink.innerHTML = docLinkHtml;\n",
              "          element.appendChild(docLink);\n",
              "        }\n",
              "      </script>\n",
              "    </div>\n",
              "  </div>\n",
              "  "
            ],
            "text/plain": [
              "       From         To  FlightNumber  ...    Delay_2  Delay_3          Airline\n",
              "0    London      Paris         10045  ...  47.000000     87.0              KLM\n",
              "1    Madrid      Milan         10055  ...  40.666667     87.0       Air France\n",
              "2    London  Stockholm         10065  ...  43.000000     87.0  British Airways\n",
              "3  Budapest      Paris         10075  ...  40.666667     87.0       Air France\n",
              "4  Brussels     London         10085  ...  32.000000     87.0        Swiss Air\n",
              "\n",
              "[5 rows x 7 columns]"
            ]
          },
          "metadata": {},
          "execution_count": 44
        }
      ],
      "source": [
        "df.head()"
      ]
    },
    {
      "cell_type": "code",
      "execution_count": 45,
      "id": "3b3dc16b",
      "metadata": {
        "id": "3b3dc16b",
        "colab": {
          "base_uri": "https://localhost:8080/"
        },
        "outputId": "1ed3bef6-b875-4e36-f209-7eb950465259"
      },
      "outputs": [
        {
          "output_type": "stream",
          "name": "stdout",
          "text": [
            "<class 'pandas.core.frame.DataFrame'>\n",
            "RangeIndex: 5 entries, 0 to 4\n",
            "Data columns (total 7 columns):\n",
            " #   Column        Non-Null Count  Dtype  \n",
            "---  ------        --------------  -----  \n",
            " 0   From          5 non-null      object \n",
            " 1   To            5 non-null      object \n",
            " 2   FlightNumber  5 non-null      int64  \n",
            " 3   Delay_1       5 non-null      float64\n",
            " 4   Delay_2       5 non-null      float64\n",
            " 5   Delay_3       5 non-null      float64\n",
            " 6   Airline       5 non-null      object \n",
            "dtypes: float64(3), int64(1), object(3)\n",
            "memory usage: 408.0+ bytes\n"
          ]
        }
      ],
      "source": [
        "df.info()"
      ]
    }
  ],
  "metadata": {
    "kernelspec": {
      "display_name": "Python 3",
      "language": "python",
      "name": "python3"
    },
    "language_info": {
      "codemirror_mode": {
        "name": "ipython",
        "version": 3
      },
      "file_extension": ".py",
      "mimetype": "text/x-python",
      "name": "python",
      "nbconvert_exporter": "python",
      "pygments_lexer": "ipython3",
      "version": "3.6.13"
    },
    "colab": {
      "name": "pa0_intro_to_python.ipynb",
      "provenance": [],
      "collapsed_sections": [
        "9f7c5978",
        "6be8fe6d",
        "7e8ead58",
        "cd8ff4f9",
        "676a062c",
        "936fb3bc",
        "1d9d8114",
        "c465de2a",
        "b68b65f8",
        "466270e6",
        "b26b0d55",
        "c5452f65"
      ]
    }
  },
  "nbformat": 4,
  "nbformat_minor": 5
}